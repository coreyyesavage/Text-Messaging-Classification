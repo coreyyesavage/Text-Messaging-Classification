{
 "cells": [
  {
   "cell_type": "code",
   "execution_count": 1,
   "metadata": {},
   "outputs": [
    {
     "name": "stdout",
     "output_type": "stream",
     "text": [
      "  category                                               text\n",
      "0      ham  Go until jurong point, crazy.. Available only ...\n",
      "1      ham                      Ok lar... Joking wif u oni...\n",
      "2     spam  Free entry in 2 a wkly comp to win FA Cup fina...\n",
      "3      ham  U dun say so early hor... U c already then say...\n",
      "4      ham  Nah I don't think he goes to usf, he lives aro...\n",
      "     category                                               text\n",
      "5567     spam  This is the 2nd time we have tried 2 contact u...\n",
      "5568      ham               Will ü b going to esplanade fr home?\n",
      "5569      ham  Pity, * was in mood for that. So...any other s...\n",
      "5570      ham  The guy did some bitching but I acted like i'd...\n",
      "5571      ham                         Rofl. Its true to its name\n"
     ]
    }
   ],
   "source": [
    "%matplotlib inline\n",
    "import pandas as pd\n",
    "import matplotlib.pyplot as plt\n",
    "from textblob import TextBlob\n",
    "import sklearn\n",
    "import numpy as np\n",
    "from sklearn.feature_extraction.text import CountVectorizer, TfidfTransformer\n",
    "from sklearn.naive_bayes import MultinomialNB\n",
    "from sklearn.metrics import classification_report, f1_score, accuracy_score, confusion_matrix\n",
    "from sklearn import preprocessing\n",
    "from sklearn.preprocessing import LabelEncoder \n",
    "\n",
    "np.random.seed(47)\n",
    "\n",
    "texts = pd.read_csv('Textdata.csv')\n",
    "print(texts.head())\n",
    "print(texts.tail())\n",
    "\n",
    "le = LabelEncoder() \n",
    "  \n",
    "texts['category']= le.fit_transform(texts['category'])"
   ]
  },
  {
   "cell_type": "code",
   "execution_count": 6,
   "metadata": {},
   "outputs": [],
   "source": [
    "import re\n",
    "def preprocessor(text):\n",
    "    text = re.sub('<[^>]*>', '', text)\n",
    "    emoticons = re.findall('(?::|;|=)(?:-)?(?:\\)|\\(|D|P)', text)\n",
    "    text = re.sub('[\\W]+', ' ', text.lower()) +\\\n",
    "        ' '.join(emoticons).replace('-', '')\n",
    "    return text"
   ]
  },
  {
   "cell_type": "code",
   "execution_count": 7,
   "metadata": {},
   "outputs": [
    {
     "data": {
      "text/plain": [
       "'this is a test :) :( :)'"
      ]
     },
     "execution_count": 7,
     "metadata": {},
     "output_type": "execute_result"
    }
   ],
   "source": [
    "preprocessor(\"</a>This :) is :( a test :-)!\")"
   ]
  },
  {
   "cell_type": "code",
   "execution_count": 8,
   "metadata": {},
   "outputs": [],
   "source": [
    "texts['text'] = texts['text'].apply(preprocessor)"
   ]
  },
  {
   "cell_type": "code",
   "execution_count": 9,
   "metadata": {},
   "outputs": [
    {
     "data": {
      "text/plain": [
       "'go until jurong point crazy available only in bugis n great world la e buffet cine there got amore wat '"
      ]
     },
     "execution_count": 9,
     "metadata": {},
     "output_type": "execute_result"
    }
   ],
   "source": [
    "texts.iloc[0][1]"
   ]
  },
  {
   "cell_type": "code",
   "execution_count": 10,
   "metadata": {},
   "outputs": [
    {
     "name": "stdout",
     "output_type": "stream",
     "text": [
      "      category                                               text\n",
      "1297         0  sure i am driving but will reach my destinatio...\n",
      "3173         0  do u still have plumbers tape and a wrench we ...\n",
      "276          0                                             thanx \n",
      "3107         0  i had been hoping i would not have to send you...\n",
      "4593         0  right it wasnt you who phoned it was someone w...\n",
      "      category                                               text\n",
      "2896         0                          went to ganesh dress shop\n",
      "691          0                                 was the farm open \n",
      "3336         0            sorry got a late start we re on the way\n",
      "1926         0  we don call like lt gt times oh no give us hyp...\n",
      "5255         0                                   ok sweet dreams \n"
     ]
    }
   ],
   "source": [
    "texts = texts.reindex(np.random.permutation(texts.index))\n",
    "\n",
    "print(texts.head())\n",
    "print(texts.tail())"
   ]
  },
  {
   "cell_type": "code",
   "execution_count": 11,
   "metadata": {},
   "outputs": [
    {
     "data": {
      "text/html": [
       "<div>\n",
       "<style scoped>\n",
       "    .dataframe tbody tr th:only-of-type {\n",
       "        vertical-align: middle;\n",
       "    }\n",
       "\n",
       "    .dataframe tbody tr th {\n",
       "        vertical-align: top;\n",
       "    }\n",
       "\n",
       "    .dataframe thead tr th {\n",
       "        text-align: left;\n",
       "    }\n",
       "\n",
       "    .dataframe thead tr:last-of-type th {\n",
       "        text-align: right;\n",
       "    }\n",
       "</style>\n",
       "<table border=\"1\" class=\"dataframe\">\n",
       "  <thead>\n",
       "    <tr>\n",
       "      <th></th>\n",
       "      <th colspan=\"4\" halign=\"left\">text</th>\n",
       "    </tr>\n",
       "    <tr>\n",
       "      <th></th>\n",
       "      <th>count</th>\n",
       "      <th>unique</th>\n",
       "      <th>top</th>\n",
       "      <th>freq</th>\n",
       "    </tr>\n",
       "    <tr>\n",
       "      <th>category</th>\n",
       "      <th></th>\n",
       "      <th></th>\n",
       "      <th></th>\n",
       "      <th></th>\n",
       "    </tr>\n",
       "  </thead>\n",
       "  <tbody>\n",
       "    <tr>\n",
       "      <th>0</th>\n",
       "      <td>4825</td>\n",
       "      <td>4506</td>\n",
       "      <td>sorry i ll call later</td>\n",
       "      <td>30</td>\n",
       "    </tr>\n",
       "    <tr>\n",
       "      <th>1</th>\n",
       "      <td>747</td>\n",
       "      <td>638</td>\n",
       "      <td>please call our customer service representativ...</td>\n",
       "      <td>4</td>\n",
       "    </tr>\n",
       "  </tbody>\n",
       "</table>\n",
       "</div>"
      ],
      "text/plain": [
       "          text                                                               \n",
       "         count unique                                                top freq\n",
       "category                                                                     \n",
       "0         4825   4506                              sorry i ll call later   30\n",
       "1          747    638  please call our customer service representativ...    4"
      ]
     },
     "execution_count": 11,
     "metadata": {},
     "output_type": "execute_result"
    }
   ],
   "source": [
    "texts.groupby('category').describe()"
   ]
  },
  {
   "cell_type": "code",
   "execution_count": 12,
   "metadata": {},
   "outputs": [
    {
     "name": "stdout",
     "output_type": "stream",
     "text": [
      "      category                                               text  length\n",
      "1297         0  sure i am driving but will reach my destinatio...      53\n",
      "3173         0  do u still have plumbers tape and a wrench we ...      59\n",
      "276          0                                             thanx        6\n",
      "3107         0  i had been hoping i would not have to send you...     285\n",
      "4593         0  right it wasnt you who phoned it was someone w...      70\n"
     ]
    }
   ],
   "source": [
    "texts['length'] = texts['text'].map(lambda text: len(text))\n",
    "print(texts.head())"
   ]
  },
  {
   "cell_type": "code",
   "execution_count": 13,
   "metadata": {},
   "outputs": [
    {
     "data": {
      "text/plain": [
       "<matplotlib.axes._subplots.AxesSubplot at 0x1359225e0>"
      ]
     },
     "execution_count": 13,
     "metadata": {},
     "output_type": "execute_result"
    },
    {
     "data": {
      "image/png": "[encoded data removed]",
      "text/plain": [
       "<Figure size 432x288 with 1 Axes>"
      ]
     },
     "metadata": {
      "needs_background": "light"
     },
     "output_type": "display_data"
    }
   ],
   "source": [
    "texts.length.plot(bins=20, kind='hist')"
   ]
  },
  {
   "cell_type": "code",
   "execution_count": 14,
   "metadata": {},
   "outputs": [
    {
     "data": {
      "text/plain": [
       "count    5572.000000\n",
       "mean       77.417624\n",
       "std        57.310303\n",
       "min         2.000000\n",
       "25%        34.000000\n",
       "50%        59.000000\n",
       "75%       117.000000\n",
       "max       908.000000\n",
       "Name: length, dtype: float64"
      ]
     },
     "execution_count": 14,
     "metadata": {},
     "output_type": "execute_result"
    }
   ],
   "source": [
    "texts.length.describe()"
   ]
  },
  {
   "cell_type": "code",
   "execution_count": 15,
   "metadata": {},
   "outputs": [
    {
     "name": "stdout",
     "output_type": "stream",
     "text": [
      "[1297, 3173, 276, 1322, 1953, 2975, 723, 534, 2529, 5375, 145, 3890, 1530, 4405, 2739, 1333, 4218, 1526, 5072, 1246, 3875, 4308, 4733, 1234, 2409, 321, 1988, 4242, 3666, 4184, 4285, 4485, 4128, 2809, 2847, 4345, 4596, 1535, 3764, 5520, 450, 4229, 3914, 3313, 1436, 72, 5339, 3735, 2862, 377, 3412, 2484, 5262, 1001, 1753, 4109, 2948, 1369, 5090, 3028, 708, 5352, 1208, 558, 1980, 1106, 3284, 4059, 1932, 958, 664, 3728, 799, 1291, 860, 3438, 1748, 124, 2388, 3261, 3488, 4292, 636, 320, 1153, 3361, 2727, 2176, 2531, 4964, 4925, 865, 387, 1488, 3846, 928, 3453, 1058, 3471, 1258, 4110, 5220, 756, 3811, 2838, 3373, 4982, 3627, 2396, 5420, 1349, 3332, 3172, 1151, 1296, 1515, 5149, 2242, 3470, 825, 4098, 3534, 4328, 3098, 1187, 4924, 5240, 902, 5062, 987, 5323, 1751, 1111, 1558, 2417, 671, 3757, 1783, 2332, 4378, 4575, 3309, 3784, 5296, 836, 110, 1327, 3375, 3278, 3836, 3917, 2227, 2098, 1555, 669, 5199, 4247, 5217, 5320, 3024, 3520, 1844, 1209, 2077, 2775, 3054, 4563, 3253, 4972, 2366, 5216, 3151, 2061, 5434, 5417, 4155, 2852, 107, 757, 2355, 5298, 277, 2517, 4053, 3926, 2341, 2274, 2449, 5093, 2201, 1326, 1871, 1877, 2051, 713, 329, 3448, 1397, 5083, 5332, 1725, 3834, 3536, 2657, 2072, 4899, 557, 1896, 826, 3526, 4887, 4814, 3773, 3118, 4851, 4347, 2501, 4793, 3607, 4097, 204, 3967, 412, 4684, 2165, 5009, 581, 2726, 1198, 2500, 2696, 4787, 5008, 151, 2245, 4977, 3293, 5545, 2048, 4724, 1230, 1614, 4445, 1455, 4191, 5329, 2317, 1890, 3572, 1921, 4473, 1522, 4228, 609, 926, 456, 2535, 1624, 1711, 2285, 2241, 1331, 3768, 3740, 5421, 3686, 4723, 1343, 4153, 3662, 3611, 137, 4573, 739, 4363, 2450, 808, 1, 3258, 4340, 2802, 1222, 5478, 4051, 548, 3615, 792, 59, 4000, 4504, 4644, 4580, 4605, 2027, 4435, 5007, 3078, 604, 2794, 2747, 4667, 4833, 2258, 3514, 2017, 2952, 2293, 3713, 3635, 4987, 5121, 3759, 4370, 3700, 1242, 4458, 5248, 2009, 4465, 4688, 3946, 1744, 1317, 2584, 2640, 3847, 3404, 428, 3747, 1029, 2699, 2007, 4722, 1424, 1925, 3937, 4609, 3398, 4715, 4080, 2928, 4803, 3597, 2924, 355, 18, 1788, 1389, 3140, 4216, 3746, 503, 248, 800, 3084, 4502, 638, 5282, 2832, 3256, 974, 5563, 2894, 5560, 3850, 2482, 1411, 2629, 5550, 3965, 326, 318, 5363, 1004, 1596, 1917, 408, 4455, 2068, 38, 873, 890, 74, 2666, 2710, 3575, 1899, 3665, 1244, 111, 730, 4792, 4528, 3378, 3116, 5162, 5341, 3283, 2353, 2415, 1191, 3652, 4664, 3983, 5338, 3338, 887, 4277, 3047, 715, 3506, 3593, 337, 5222, 996, 3540, 1650, 3737, 232, 5499, 3125, 1799, 1946, 1395, 2983, 2433, 2254, 2673, 2886, 4655, 2067, 5107, 3134, 1908, 1338, 4875, 1864, 3993, 4816, 1541, 4516, 3576, 2961, 737, 1572, 2812, 4630, 3049, 3339, 4195, 236, 5289, 421, 783, 3381, 3330, 5130, 4350, 2811, 961, 5065, 1162, 3661, 4342, 1421, 2240, 1006, 3246, 3489, 4338, 4570, 434, 2728, 5447, 1955, 3809, 1735, 1631, 717, 2507, 5350, 4400, 1224, 4660, 3074, 1831, 78, 2056, 4472, 5208, 4555, 3516, 5241, 686, 4938, 1175, 2917, 1352, 3071, 5169, 986, 3948, 2472, 150, 3177, 3606, 3127, 4819, 4620, 1811, 5154, 4935, 4947, 2127, 275, 3754, 3240, 177, 2636, 4853, 4501, 197, 4933, 2151, 2174, 5089, 1245, 776, 4634, 1534, 3383, 1178, 4066, 2140, 3263, 1532, 5299, 3669, 1195, 2806, 3901, 4642, 1148, 1433, 1135, 5084, 3287, 2625, 4708, 5307, 1498, 5300, 5033, 2276, 4837, 5321, 2188, 2130, 5280, 5074, 1531, 2533, 5238, 2118, 3619, 1545, 2762, 3380, 4422, 3394, 682, 827, 1529, 594, 4250, 1606, 3886, 4677, 304, 3724, 3451, 582, 2073, 4781, 5313, 4598, 4560, 3219, 2411, 4690, 5514, 112, 4838, 4313, 1093, 3178, 5390, 5477, 3743, 5464, 156, 1042, 2349, 1690, 2751, 1281, 3608, 3093, 214, 1339, 2682, 2038, 310, 3099, 851, 985, 5409, 2585, 5188, 1196, 1361, 3655, 3838, 3830, 2855, 929, 1943, 4902, 3542, 4699, 4033, 2097, 1873, 745, 702, 3236, 1585, 2154, 2571, 4027, 2538, 3833, 4224, 3645, 5481, 2993, 2963, 3849, 2904, 5330, 2412, 4958, 3624, 24, 3384, 3106, 3596, 2722, 2005, 2107, 5069, 5541, 4545, 2766, 4402, 4669, 5212, 3605, 3319, 2555, 4397, 3347, 1289, 5256, 1452, 923, 4467, 417, 975, 2609, 5510, 1394, 75, 2887, 1133, 1836, 4432, 4981, 4523, 853, 1075, 1997, 2476, 2709, 2403, 982, 1731, 4167, 4908, 361, 3788, 5489, 1514, 4614, 2964, 208, 662, 5531, 89, 4703, 3193, 532, 1161, 639, 946, 4332, 1802, 2621, 62, 327, 4975, 1409, 2690, 1341, 768, 5508, 4103, 5116, 3365, 5461, 4214, 4306, 5406, 741, 5202, 597, 1136, 2058, 5428, 5110, 877, 5059, 5101, 2725, 478, 3623, 3783, 4113, 1820, 5245, 2439, 1112, 221, 3867, 1217, 233, 2976, 1790, 4188, 3388, 1321, 125, 5066, 5450, 1090, 1916, 5397, 1446, 1994, 3327, 4428, 2714, 493, 4868, 189, 5163, 4689, 1669, 3418, 3076, 1454, 805, 166, 4262, 5498, 1737, 2110, 4910, 2269, 1286, 1273, 561, 670, 2321, 5167, 1233, 3389, 3270, 5075, 2512, 2655, 2563, 1644, 3474, 382, 61, 2552, 4732, 811, 339, 4950, 376, 4663, 149, 50, 1777, 5206, 3553, 2055, 2947, 643, 2454, 3218, 3975, 4897, 954, 852, 2229, 5344, 857, 1257, 409, 247, 1789, 5173, 3940, 660, 5183, 644, 5334, 2406, 3402, 2351, 3727, 3552, 4205, 3898, 3208, 438, 1462, 658, 4047, 2580, 1054, 549, 2502, 4525, 442, 2233, 3711, 1849, 2685, 5211, 1834, 1730, 2842, 676, 2045, 4064, 4126, 2175, 5088, 2515, 3748, 4747, 1223, 530, 1861, 1838, 5372, 4621, 5014, 5095, 4207, 1116, 2400, 96, 4406, 4043, 1782, 1805, 1845, 1363, 1611, 2162, 4164, 1277, 3896, 3268, 1381, 1567, 3647, 4872, 753, 5026, 2553, 3992, 5038, 2499, 3350, 5361, 3065, 1750, 4239, 4006, 3688, 1031, 4208, 3088, 5471, 1928, 972, 3363, 5392, 2537, 2198, 1547, 1052, 1213, 4217, 2326, 4799, 73, 2837, 2401, 640, 1265, 2025, 4425, 2890, 656, 1123, 509, 2392, 366, 973, 1933, 1806, 1173, 3142, 2399, 589, 2375, 3810, 3124, 1701, 2063, 1870, 1228, 5051, 4304, 223, 1833, 470, 699, 4558, 938, 4662, 1716, 3061, 4346, 5454, 2249, 4479, 2477, 3027, 1903, 3086, 2780, 4261, 3379, 2769, 5411, 4934, 2131, 3459, 4513, 2266, 5100, 2345, 5436, 806, 3023, 63, 5528, 533, 2075, 46, 1810, 4627, 82, 3466, 2616, 2033, 5273, 500, 3450, 1599, 171, 5253, 1987, 4610, 5301, 4515, 3170, 386, 3682, 1995, 984, 4122, 1520, 2011, 1046, 721, 2167, 4612, 5118, 4286, 955, 3677, 341, 280, 2059, 3859, 1639, 2882, 5414, 1576, 2641, 4398, 2050, 2658, 1647, 3042, 2891, 2854, 3712, 1851, 2944, 4478, 4510, 5085, 5284, 3001, 1211, 1376, 2015, 3660, 4179, 2019, 2457, 2578, 426, 1427, 1776, 5106, 3201, 218, 4638, 1030, 4536, 80, 279, 57, 4509, 5270, 4201, 265, 2736, 5153, 3697, 2141, 4986, 1804, 3962, 602, 4443, 5458, 3625, 4657, 157, 2731, 4737, 1071, 2941, 1524, 1485, 3835, 4135, 1685, 1554, 575, 5470, 4440, 14, 465, 292, 936, 3481, 1232, 1417, 2692, 3034, 3658, 5295, 5439, 4029, 2761, 4997, 5160, 4926, 1829, 5054, 5322, 5382, 4687, 2474, 5023, 3802, 1309, 1354, 2106, 2492, 1795, 618, 3441, 5229, 700, 2576, 5172, 1898, 4182, 2957, 345, 130, 666, 3671, 2381, 2605, 1131, 2387, 1482, 294, 395, 2796, 2869, 3941, 3767, 2428, 5340, 2877, 257, 4998, 3690, 1990, 4175, 3672, 1710, 472, 3674, 4702, 331, 3301, 780, 4999, 2509, 2123, 1083, 468, 1758, 5425, 516, 3699, 563, 5553, 1882, 2568, 122, 1798, 16, 5399, 2718, 340, 346, 2610, 2831, 1939, 1329, 2588, 3812, 2790, 2114, 4395, 4682, 2665, 267, 2825, 3158, 3718, 2753, 1660, 2926, 3386, 2042, 2932, 5234, 2579, 3813, 2210, 1983, 3029, 2594, 2441, 2292, 3863, 5182, 2786, 540, 2082, 1550, 2634, 3264, 3480, 2603, 351, 588, 1184, 5135, 3525, 4025, 774, 4561, 4983, 476, 2567, 4640, 4028, 4907, 5433, 5316, 3877, 2572, 3733, 1761, 1013, 4269, 3035, 3982, 100, 58, 291, 499, 1078, 2520, 3584, 1539, 3248, 2199, 3706, 2793, 5286, 216, 1057, 4129, 2920, 2357, 1406, 1971, 4637, 5291, 3103, 3004, 969, 1835, 315, 1399, 4636, 486, 2081, 5571, 1152, 3894, 1900, 3349, 4498, 1503, 1862, 4493, 2173, 4790, 2002, 4161, 3252, 1671, 5403, 1304, 3730, 1310, 3015, 2136, 904, 2169, 4474, 1019, 1800, 4849, 2527, 2998, 5539, 3555, 3235, 338, 5360, 146, 2143, 3952, 1704, 5165, 2001, 649, 4613, 1043, 2810, 1203, 1712, 1592, 3693, 2120, 1719, 1334, 5551, 37, 5558, 2562, 5569, 1996, 21, 3879, 3861, 4231, 1969, 2253, 3959, 4822, 4180, 4136, 2397, 215, 5025, 632, 219, 83, 5349, 4212, 1496, 2271, 4961, 921, 4107, 750, 4666, 4590, 2178, 271, 1439, 3986, 2424, 483, 2939, 1005, 1580, 1442, 1024, 1948, 2183, 196, 1305, 3559, 3973, 4411, 4631, 3228, 3368, 1404, 5275, 2874, 383, 3650, 406, 344, 1087, 3927, 2969, 2748, 1794, 2771, 5327, 3171, 2637, 2060, 1166, 949, 3179, 1736, 605, 4423, 4419, 5398, 5186, 494, 3249, 816, 4904, 3507, 3583, 4334, 3654, 3524, 3156, 440, 1212, 1754, 1957, 1210, 2270, 2518, 3232, 3742, 2147, 4040, 2156, 5486, 2843, 2646, 3535, 2316, 1182, 3785, 4544, 3692, 2036, 1894, 5371, 2336, 744, 1757, 5048, 3331, 3120, 496, 1568, 2213, 4137, 5502, 5391, 892, 451, 336, 5052, 5230, 4015, 4995, 4623, 2202, 5386, 2339, 126, 5242, 3139, 281, 796, 2085, 2467, 654, 5326, 4654, 5319, 906, 951, 4835, 4283, 3870, 552, 4426, 4131, 2601, 991, 4984, 1132, 1009, 4832, 4341, 2289, 596, 3633, 153, 3958, 3413, 3414, 1256, 2458, 1201, 4671, 1552, 3069, 5271, 2607, 2994, 3752, 2974, 2550, 526, 498, 4692, 4035, 1672, 5452, 2431, 4807, 5077, 3343, 5529, 2846, 912, 1323, 3680, 1553, 2291, 3630, 1852, 3302, 128, 1370, 2833, 5215, 4921, 5120, 4325, 3889, 3175, 1593, 689, 3853, 679, 5437, 3340, 2633, 3837, 2041, 1629, 152, 3250, 1989, 4767, 1646, 5488, 47, 2822, 4058, 3857, 4074, 2498, 3477, 1028, 4039, 1612, 2331, 2624, 1379, 5396, 241, 3907, 3756, 1276, 1677, 1419, 5532, 5523, 3437, 4270, 3569, 1088, 362, 3691, 5057, 4451, 655, 2257, 5123, 4019, 707, 175, 4469, 2635, 3717, 2752, 5408, 4022, 2785, 3793, 5134, 4709, 5423, 1977, 4522, 3573, 5328, 2281, 1346, 965, 3426, 5453, 3157, 3930, 1728, 3400, 4937, 105, 1583, 2284, 2720, 99, 1270, 258, 2611, 5219, 3565, 2129, 4384, 4611, 306, 544, 1285, 4928, 1319, 5281, 1919, 3202, 2967, 4194, 2020, 3723, 1703, 2737, 1641, 1949, 3356, 606, 884, 3511, 1181, 2083, 2888, 3346, 1732, 3731, 1774, 5394, 2076, 1356, 4927, 1483, 4367, 3888, 4238, 133, 2979, 1543, 185, 71, 3376, 631, 4576, 4645, 3254, 2303, 2124, 2653, 2789, 26, 261, 1665, 4072, 3275, 3904, 1435, 937, 4538, 3739, 20, 5405, 920, 3632, 2631, 2617, 2234, 4008, 1110, 4130, 3063, 4449, 5013, 1332, 3079, 379, 2662, 3019, 2656, 2080, 2334, 621, 514, 1367, 4233, 2383, 3121, 2883, 1033, 1739, 2586, 2977, 1620, 4549, 4333, 1070, 4323, 1264, 1837, 3820, 3878, 4278, 859, 2853, 523, 3925, 1528, 1453, 2758, 1962, 4293, 3708, 1066, 728, 1922, 862, 893, 1664, 2046, 675, 4124, 4858, 84, 1856, 2384, 3705, 5157, 4351, 1618, 2756, 2703, 1859, 1686, 2707, 4404, 5203, 4360, 4800, 2092, 4220, 2772, 1489, 2561, 2139, 5356, 5002, 1121, 5542, 5109, 4865, 372, 4783, 4054, 415, 1377, 228, 4973, 2138, 1037, 980, 1295, 4635, 3908, 4017, 5513, 2350, 4530, 572, 4847, 1950, 2989, 2735, 4898, 3815, 5181, 3274, 238, 2741, 449, 2867, 4494, 886, 2319, 624, 524, 4145, 1570, 4021, 622, 316, 3465, 2614, 2021, 3670, 1392, 513, 4774, 1468, 3609, 2346, 4114, 2804, 2200, 4827, 1902, 835, 3213, 2648, 2142, 4357, 2951, 5044, 4255, 1025, 182, 4539, 1124, 2689, 3113, 4251, 2880, 2570, 4785, 3817, 3224, 1183, 1160, 1914, 3876, 2679, 266, 1445, 1678, 253, 3852, 3135, 141, 771, 3734, 1079, 3051, 1772, 4503, 667, 45, 3599, 2986, 2773, 2362, 2086, 4427, 1320, 3406, 2953, 3910, 1268, 402, 3601, 4486, 4316, 960, 5490, 4730, 3943, 2919, 2117, 2805, 4795, 3026, 5159, 1504, 5381, 1408, 2155, 3512, 1351, 3900, 4633, 2912, 2043, 5351, 683, 2895, 818, 1159, 3396, 724, 3007, 3187, 393, 5435, 619, 5380, 3871, 293, 3602, 1278, 234, 77, 4388, 2459, 3242, 3741, 1565, 4037, 4393, 3827, 3974, 3899, 97, 4024, 1237, 4041, 3933, 3612, 1422, 5003, 4941, 3638, 2453, 1616, 5218, 388, 2923, 3736, 1425, 4003, 3777, 2677, 2839, 4565, 3342, 3803, 4045, 4691, 979, 1103, 3131, 210, 3311, 4824, 5061, 891, 1168, 3449, 5507, 2660, 4431, 3977, 2759, 3417, 4568, 287, 3075, 2091, 2508, 5239, 3392, 2032, 4013, 2426, 1947, 4095, 2425, 1040, 4379, 416, 1248, 3546, 1656, 3475, 88, 423, 1056, 4165, 2283, 1775, 1910, 3, 2721, 299, 3150, 3919, 4866, 4193, 1398, 899, 4755, 5473, 4401, 4168, 2675, 5194, 3053, 3352, 4843, 845, 3814, 32, 1241, 3570, 3787, 2651, 1519, 1096, 69, 3073, 2423, 5017, 3100, 1645, 3685, 4480, 4339, 5204, 2971, 322, 4683, 70, 4454, 4719, 3936, 5226, 5171, 4246, 2922, 485, 3145, 3251, 2929, 4353, 5144, 3399, 4290, 1808, 4874, 3494, 2455, 759, 2956, 2551, 2899, 2047, 2829, 1951, 4380, 3416, 2335, 1818, 522, 567, 2940, 2506, 1314, 4856, 4259, 2149, 427, 1302, 3205, 3701, 187, 1138, 5315, 4413, 4447, 4105, 2168, 2255, 5422, 3431, 3956, 3676, 3519, 173, 2911, 3794, 2835, 603, 4030, 1032, 4331, 3702, 2111, 4434, 2150, 3439, 3070, 2096, 4487, 2716, 5191, 3322, 274, 1298, 2544, 2280, 3935, 373, 4482, 4044, 5032, 3279, 1180, 3337, 2950, 4769, 5184, 1589, 3504, 414, 2466, 444, 697, 2935, 2524, 3390, 1015, 4678, 2436, 90, 4736, 4641, 3653, 3091, 3030, 2554, 3961, 950, 3775, 3130, 3726, 4101, 3094, 370, 490, 1610, 1505, 5306, 5114, 3600, 5388, 431, 4146, 2592, 2522, 4854, 681, 2470, 3603, 1509, 810, 1700, 1186, 2542, 4557, 5000, 1684, 952, 1607, 1026, 1976, 1415, 922, 4327, 2282, 255, 2487, 4046, 363, 3102, 3037, 1860, 2815, 1051, 809, 1603, 452, 3722, 2314, 970, 2320, 2216, 1259, 403, 3594, 3181, 4490, 3429, 2197, 1698, 4079, 2768, 1738, 3364, 2577, 3554, 3929, 1405, 2763, 3055, 131, 2172, 4763, 3648, 5267, 1284, 2447, 2732, 4382, 3505, 4535, 4886, 2277, 5247, 2734, 5519, 2307, 2746, 1974, 36, 5111, 2215, 1516, 819, 790, 3543, 1759, 2908, 3945, 1879, 3532, 1067, 3366, 1771, 3038, 2661, 3044, 1077, 5469, 2322, 5568, 990, 2348, 488, 5022, 4279, 1975, 1481, 1814, 1601, 1190, 2931, 2421, 4446, 2180, 325, 81, 5496, 754, 3567, 4859, 1681, 2875, 3997, 4625, 2970, 3753, 2268, 3769, 4743, 3681, 2659, 528, 3393, 479, 4744, 1471, 2214, 1682, 1139, 4740, 5293, 4772, 4959, 3659, 3445, 3492, 5119, 1934, 269, 5512, 1202, 889, 3903, 4804, 4661, 437, 732, 3528, 2195, 278, 5254, 1715, 1443, 1451, 4600, 5534, 43, 2465, 217, 1972, 2777, 5395, 4882, 4675, 1931, 1023, 1238, 142, 404, 2049, 1905, 2645, 245, 814, 1842, 4716, 933, 3544, 4244, 2079, 4524, 1817, 3405, 4082, 807, 5556, 5020, 2564, 701, 1082, 4700, 1012, 1768, 590, 1675, 4100, 5233, 3200, 4813, 391, 4989, 4389, 4857, 3882, 2369, 3557, 2816, 5249, 477, 3190, 3160, 3199, 2298, 22, 2639, 2260, 5438, 132, 504, 570, 2827, 1538, 3328, 1282, 390, 909, 3169, 2543, 722, 4920, 4764, 2177, 5064, 2599, 3122, 3823, 3239, 2598, 1410, 1348, 4138, 521, 1740, 295, 4152, 3326, 4862, 4745, 4909, 2192, 4026, 230, 2927, 4507, 2613, 3818, 2087, 2936, 5522, 2039, 4680, 384, 502, 2884, 2600, 4117, 184, 3761, 4050, 4276, 3868, 481, 3689, 4476, 861, 5174, 1299, 4326, 4014, 5475, 716, 464, 2516, 2295, 4668, 5127, 4390, 3592, 5480, 1883, 1426, 1014, 2166, 2745, 3678, 1167, 3578, 1250, 4993, 3721, 1150, 1823, 2323, 2358, 2540, 3369, 3057, 1113, 4031, 1371, 2688, 4665, 573, 3225, 505, 3934, 284, 3003, 1600, 3781, 3166, 3066, 5357, 3138, 4356, 1065, 1918, 5373, 2034, 4626, 967, 1661, 3020, 897, 4087, 495, 5187, 5389, 5223, 1825, 1935, 4365, 4421, 3161, 1643, 1387, 1692, 2784, 3068, 2901, 2185, 769, 4441, 3503, 1517, 3128, 1340, 4895, 3367, 3981, 5337, 3216, 200, 3558, 5348, 5345, 4438, 3415, 2999, 2643, 3159, 4883, 5536, 1689, 4976, 2740, 5310, 251, 977, 85, 3710, 1564, 3490, 3800, 1733, 2057, 3104, 3457, 1294, 5440, 4788, 5185, 663, 2103, 4806, 736, 2035, 3016, 5448, 2627, 5543, 2618, 2460, 2462, 1255, 5521, 1885, 4679, 2443, 1627, 213, 1549, 4777, 2918, 144, 4653, 512, 3487, 1501, 348, 3482, 3320, 1450, 578, 2668, 5035, 3657, 2228, 3960, 2623, 2672, 574, 242, 5546, 546, 3012, 4686, 2398, 2863, 5193, 1020, 469, 138, 4617, 5091, 1563, 2302, 4622, 1243, 3207, 4489, 343, 828, 600, 3255, 2101, 2750, 4900, 2445, 2984, 2000, 4706, 4756, 1345, 2451, 3146, 193, 1027, 634, 4160, 995, 4697, 3354, 5431, 5258, 1960, 3090, 3304, 2602, 2029, 746, 1165, 2325, 4913, 3902, 3117, 1141, 1490, 4374, 2329, 5369, 3796, 3114, 2137, 5265, 5128, 5548, 4978, 4917, 3072, 5463, 4099, 1018, 4083, 4481, 3022, 3006, 2807, 1525, 4186, 4178, 307, 2385, 3916, 1906, 4173, 3996, 5511, 5432, 1634, 3428, 4705, 613, 4646, 5426, 5504, 2263, 2037, 1819, 2840, 1000, 2066, 1174, 915, 5457, 4963, 1478, 4320, 1981, 5565, 3966, 201, 1147, 3188, 4894, 2873, 1219, 369, 4514, 822, 1803, 286, 1185, 3513, 3634, 3214, 136, 4820, 2333, 5011, 5213, 1786, 2776, 3272, 263, 2030, 3243, 4273, 3152, 3582, 3656, 4649, 205, 3345, 212, 3469, 3640, 4552, 4761, 2182, 3964, 3226, 484, 696, 2704, 1865, 2978, 1867, 668, 1843, 4844, 4324, 3000, 5290, 3197, 283, 1615, 5257, 1125, 5283, 4319, 4846, 1756, 2608, 4594, 4826, 562, 3185, 775, 2896, 691, 3336, 1926, 5255]\n",
      "['sure i am driving but will reach my destination soon ', 'do u still have plumbers tape and a wrench we could borrow ', 'thanx ', 'i wake up long ago already dunno what other thing ', 'nah im goin 2 the wrks with j wot bout u ', 'i ll text carlos and let you know hang on', 'that is wondar full flim ', 'i ll be late ', 'jay says he ll put in lt gt ', 'i cant pick the phone right now pls send a message', 'yes see ya not on the dot', 'unlimited texts limited minutes ', 'should i have picked up a receipt or something earlier', 'sorry i ll call later lt gt mins', 'i sent you the prices and do you mean the lt gt g ', 'it s ok lar u sleep early too nite ', 'will be office around 4 pm now i am going hospital ', 'pls pls find out from aunt nike ', 'as in different styles ', 'hello which the site to download songs its urgent pls', 'no did you multimedia message them or e mail ', 'i guess it is useless calling u 4 something important ', 'wat time r ü going to xin s hostel ', 'lol ok i ll snatch her purse too ', 'dear where you will be when i reach there', 'merry christmas to you too babe i love ya kisses ', 'no calls messages missed calls', 'detroit the home of snow enjoy it ', 'ha u jus ate honey ar so sweet ', 'sorry i ll call later in meeting', 'yes i come to nyc for audiitions and am trying to relocate ', 'shopping eh ger i toking abt syd leh haha', 'sorry i ll call later', 'yes princess i want to catch you with my big strong hands ', 'wat time u finish ur lect today ', 'hi did you asked to waheeda fathima about leave :)', 'yo sorry was in the shower sup', 'remember on that day ', 'k i will send in lt gt min :)', 'no i dont want to hear anything', '10 min later k ', 'have you started in skye', 'yeah whatever lol', 'i know you are serving i mean what are you doing now ', 'dad went out oredi ', 'hi babe im at home now wanna do something xx', 'you d like that wouldn t you jerk ', '4 tacos 1 rajas burrito right ', 'i am not at all happy with what you saying or doing', 'you could have seen me i did t recognise you face :)', 'only once then after ill obey all yours ', 'mm have some kanji dont eat anything heavy ok', 'did you see that film :)', 'no but heard abt tat ', 'give one miss from that number please', 'pls send me your address sir ', 'leave it u will always be ignorant ', 'alright i m out have a good night ', 'st andre virgil s cream', 'you still at the game ', 'quite late lar ard 12 anyway i wun b drivin ', 'good morning princess have a great day ', 'i need you to be in my strong arms ', 'i know that my friend already told that ', 'shhhhh nobody is supposed to know ', 'on hen night going with a swing', 'hey tmr maybe can meet you at yck', 'hi di is yijue we re meeting at 7 pm at esaplanade tonight ', 'what pa tell me i went to bath :)', 'welp apparently he retired', 'leave it de start prepare for next :) :)', 'aldrine rakhesh ex rtm here pls call urgent ', 'ok i msg u b4 i leave my house ', 'eat jap done oso aft ur lect wat ü got lect at 12 rite ', 'did he just say somebody is named tampa', 'then what about further plan ', 'i think u have the wrong number ', 'i am going to sao mu today will be done only at 12', 'also where s the piece', 'i m always looking for an excuse to be in the city ', 'change windows logoff sound ', 'call me when u re done ', 'me n him so funny ', 'coffee cake i guess ', 'ok i go change also ', 'please attend the phone :)', 'no i am not having not any movies in my laptop', 'i m at work please call', 'so the sun is anti sleep medicine ', 'i want to see your pretty pussy ', 'we can go 4 e normal pilates after our intro ', 'dude ive been seeing a lotta corvettes lately', 'customer place i will call you ', 'i told your number to gautham ', 'mmmm i cant wait to lick it ', 'k i will give my kvb acc details :) :)', 'ugh just got outta class', 'ard 515 like dat y ', 'aathi where are you dear ', 'am also doing in cbe only but have to pay ', 'i want to lick your pussy now ', 'i have to take exam with in march 3', 'so why didnt you holla ', 'aight can you text me the address ', '1 s reach home call me ', 'and now electricity just went out fml ', 'i said its okay sorry', 'yeah right i ll bring my tape measure fri ', 'babe i m back come back to me ', 'i dont know oh hopefully this month ', 'nothing much chillin at home any super bowl plan ', 'how much it will cost approx per month ', 'still otside le u come 2morrow maga ', ' that said can you text him one more time ', 'tell her i said eat shit ', 'k all the best congrats :) :)', 'pls call me da what happen ', 'u buy newspapers already ', 'all day working day except saturday and sunday :)', 'have a good evening ttyl', 'i am going to bed now prin', 'sorry i ll call later', 'dude got a haircut now its breezy up there', 'yo you at jp and hungry like a mofo ', 'goodmorning today i am late for lt gt min ', 'oh yah we never cancel leh haha', 'gud gud k chikku tke care sleep well gud nyt', 'how is it possible to teach you and where ', 'sorry i ll call you later i am in meeting sir ', 'i m in office now i will call you lt gt min :)', 'aah bless how s your arm ', 'got it mail panren paru ', 'ok ill tell the company', 'wat r u doing ', 'could you not read me my love i answered you', 'ho ho big belly laugh see ya tomo', 'yes here tv is always available in work place :)', 'my uncles in atlanta wish you guys a great semester ', 'at home by the way', 'how much is torch in 9ja ', ' but your not here :(', 'but i m surprised she still can guess right lor ', 'can you do online transaction ', 'are u coming to the funeral home', 'good morning my dear have a great amp successful day ', 'dont worry i guess he s busy ', 'sorry was in the bathroom sup', 'also andros ice etc etc', 'its a great day do have yourself a beautiful one ', 'i m thinking that chennai forgot to come for auction ', 'ok c u then ', 'if you have belive me come to my home ', 'are you the cutest girl in the world or what', 'yeah we do totes when u wanna ', 'have a good evening ttyl', 'ugh my leg hurts musta overdid it on mon ', 'well welp is sort of a semiobscure internet thing', 'well thats nice too bad i cant eat it', 'but we havent got da topic yet rite ', 'you are a very very very very bad girl or lady ', 'hanging out with my brother and his family', 'super da good replacement for murali:)', 'also maaaan are you missing out', 'trust me even if isn t there its there ', 'dude u knw also telugu thts gud k gud nyt ', 'pls send me the correct name da ', 'how much u trying to get ', 'come to medical college at 7pm forward it da', 'hey come online use msn we are all there', 'ok try to do week end course in coimbatore ', 'i am late i will be there at', 'yo howz u girls never rang after india l', 'i did one slice and one breadstick lol', 'jesus armand really is trying to tell everybody he can find', 'nope i just forgot will show next week', 'haf u eaten wat time u wan me 2 come ', 'are you going to wipro interview today ', 'aight i ll hit you up when i get some cash', 'cant think of anyone with spare room off top of my head', 'r we going with the lt gt bus ', 'i ll hand her my phone to chat wit u', 'tell rob to mack his gf in the theater', 'yes i m in office da :)', 'ya ok then had dinner ', 'as if i wasn t having enough trouble sleeping ', 'i will take care of financial problem i will help :)', 'cold dont be sad dear', 'do u knw dis no lt gt ', 'gokila is talking with you aha :)', 'haha can but i m having dinner with my cousin ', 'yeah jay s sort of a fucking retard', 'aight i ll text you when i m back', 'watching tv now i got new job :)', 'hi where you you in home or calicut ', '08714712388 between 10am 7pm cost 10p', 'cool text me when you re parked', 'sitting ard nothing to do lor u leh busy w work ', 'shall i start from hear ', 'aiya we discuss later lar pick ü up at 4 is it ', 'i think steyn surely get one wicket :)', 'there bold 2 lt gt is that yours', 'i had askd u a question some hours before its answer', 'i m at home please call', 'feel like trying kadeem again v', 'good night my dear sleepwell amp take care', 'oh for fuck s sake she s in like tallahassee', 'having lunch you are not in online why :)', 'uh heads up we don t have that much left', 'hmm bits and pieces lol sighs ', 'i not free today i haf 2 pick my parents up tonite ', 'or just do that 6times', 'i can call in lt gt min if thats ok', 'does uncle timi help in clearing cars', 'now am free call me pa ', 'maybe you should find something else to do instead ', 'you still around i could use a half 8th', 'remember to ask alex about his pizza', 'gd luck 4 ur exams :)', 'that means you got an a in epi she s fine she s here now ', 'hey is rite u put 10 evey mnth is that all ', 'goodmorning sleeping ga ', 'i was just callin to say hi take care bruv ', 'cos i want it to be your thing', 'ok u can take me shopping when u get paid d=D', 'nothing really just making sure everybody s up to speed', 'go fool dont cheat others ok', 'huh so early then ü having dinner outside izzit ', 'no but we ll do medical missions to nigeria', 'he also knows about lunch menu only da i know', 'yup i ve finished c ü there ', 'and whenever you and i see we can still hook up too ', 'holy living christ what is taking you so long', 'oh k i will come tomorrow', 'the wine is flowing and i m i have nevering ', 'no management puzzeles ', 'you are gorgeous keep those pix cumming thank you :)', 'dear good morning how you feeling dear', 'hi its in durban are you still on this number', 'no de but call me after some time ill tell you k', 'hello peach my cake tasts lush ', 'jus ans me lar u ll noe later ', 'thnx dude u guys out 2nite ', 'come back to tampa ffffuuuuuuu', 'can ü all decide faster cos my sis going home liao ', 'sorry i ll call later', 'sir waiting for your letter ', 'that s cause your old i live to be high ', 'i gotta collect da car at 6 lei ', 'but you dint in touch with me ', 'dont know you bring some food', '3 you have received your mobile content enjoy', 'are you angry with me what happen dear', 'buy one egg for me da please :)', 'neva mind it s ok ', 'k wait chikku il send aftr lt gt mins', 'si si i think ill go make those oreo truffles ', 'ok enjoy r u there in home ', 'ah well that confuses things doesn t it ', ' no promises on when though haven t even gotten dinner yet ', 'velly good yes please ', 'k i ll call you when i m close', 'aight no rush i ll ask jay', 'sir goodmorning once free call me ', 'did you stitch his trouser', 'hi elaine is today s meeting confirmed ', 'wake me up at lt gt am morning :)', 'i m home my love if your still awake loving kiss ', 'yeah i ll try to scrounge something up', 'what s nannys address ', 'well then you have a great weekend ', 'call me i m unable to cal lets meet bhaskar and deep', 'he is there you call and meet him', 'omg how did u know what i ate ', 'wish i were with you now ', 'i can t right this second gotta hit people up first', 'then she dun believe wat ', 'boooo you always work just quit ', 'ok lar joking wif u oni ', 'no but you told me you were going before you got drunk ', 'just got outta class gonna go gym ', 'depends on where u going lor ', 'prakesh is there know ', 'no probably lt gt ', 'ok ok take care i can understand ', 'sorry that took so long omw now', 'ok c ü then ', 'all e best 4 ur driving tmr :)', 'yes gauti and sehwag out of odi series ', 'k k when will you give treat ', 'stupid its not possible', 'sorry i din lock my keypad ', 'no plans yet what are you doing ', 'thanx 4 puttin da fone down on me ', 'nah man my car is meant to be crammed full of people', 'sounds great im going to sleep now have a good night ', 'ill b down soon', 'there is no sense in my foot and penis ', 'be happy there i will come after noon', 'not from this campus are you in the library ', 'k da how many page you want :)', 'not tel software name ', 'rats hey did u ever vote for the next themes ', 'here got lots of hair dresser fr china ', 'staff of placement training in amrita college ', 'princess is your kitty shaved or natural ', 'hey now am free you can call me ', ' that s not v romantic :(', 'wat u doing there ', 'its a big difference lt gt versus lt gt every lt gt hrs', 'that s y u haf 2 keep me busy ', 'oops i did have it lt gt ', 'lol no ouch but wish i d stayed out a bit longer', 'anytime lor ', 'how i noe did ü specify da domain as nusstu ü still in sch ', 'i want to show you the world princess how about europe :)', 'aight should i just plan to come up later tonight ', 'u come n search tat vid not finishd ', 'see the forwarding message for proof', 'ranjith cal drpd deeraj and deepak 5min hold', 'eatin my lunch ', 'i will be gentle princess we will make sweet gentle love ', 'i love to wine and dine my lady ', 'why nothing ok anyway give me treat', 'goodmorning today i am late for 1hr ', 'why she wants to talk to me', 'pls go there today lt gt i dont want any excuses', 'good night my dear sleepwell amp take care', 'any pain on urination any thing else ', 'i m not she lip synced with shangela ', 'lol you forgot it eh yes i ll bring it in babe', 'from 88066 lost 12 help', 'shopping lor them raining mah hard 2 leave orchard ', 'yup anything lor if u dun wan it s ok ', 'lol great now im getting hungry ', 'ok', 'they r giving a second chance to rahul dengra ', 'we live in the next lt gt mins', 'heehee that was so funny tho', 'oops i thk i dun haf enuff i go check then tell ü ', 'o i played smash bros lt gt religiously ', 'ok u enjoy ur shows ', 'reverse is cheating that is not mathematics ', 'good morning princess happy new year ', 'fine am simply sitting ', ' lt gt ish minutes was 5 minutes ago wtf ', 'fine if that s the way u feel that s the way its gota b', 'yes sura in sun tv lol :) :)', 'oh k i think most of wi and nz players unsold ', 'is ur lecture over ', 'no dear i was sleeping p:P', 'aight let me know when you re gonna be around usf', 'check with nuerologist ', 'kallis wont bat in 2nd innings ', 'gimme a few was lt gt minutes ago', 'k k how about your training process :)', 'so wat s da decision ', 'when ü login dat time dad fetching ü home now ', 'i have gone into get info bt dont know what to do', 'thanx 4 sending me home ', 'hi its kate can u give me a ring asap xxx', 'what is your account number ', 'ard 6 like dat lor ', 'k i ll be sure to get up before noon and see what s what', 'anything lor juz both of us lor ', 'u in town alone ', 'k do it at evening da urgent :) :) :)', 'pls speak to that customer machan ', 'haha they cant what at the most tmr forfeit haha so how ', 'cool what time you think you can get here ', 'if e timing can then i go w u lor ', 'no calls messages missed calls', 'not really dude have no friends i m afraid :(', 'i think your mentor is but not 100 percent sure ', ' lt gt am i think should say on syllabus', 'pls confirm the time to collect the cheque ', 'fffff can you text kadeem or are you too far gone', 'hello good week fancy a drink or something later ', 'i m home ard wat time will u reach ', 'who s there say hi to our drugdealer', 'anything lor u decide ', 'i ll text you when i drop x off', 'wife how she knew the time of murder exactly', 'u can call me now ', 'r u meeting da ge at nite tmr ', 'sorry de i went to shop ', 'yeah sure i ll leave in a min', 'wat would u like 4 ur birthday ', 'huh 6 also cannot then only how many mistakes ', 'no shoot me i m in the docs waiting room ', 'what is the plural of the noun research ', 'dunno y u ask me ', 'send me your resume :)', 'understand his loss is my gain so do you work school :)', 'yup wun believe wat u really neva c e msg i sent shuhui ', 'i wait 4 ü inside da car park ', 'just send a text we ll skype later ', 'and of course you should make a stink ', 'hey you around i ve got enough for a half the ten i owe you', 'thats cool how was your day ', 'o was not into fps then ', 'we re done ', 'want to send me a virtual hug i need one', 'no yes please been swimming ', 'his frens go then he in lor not alone wif my mum n sis lor ', 'so when do you wanna gym ', 'i am at the gas station go there ', 'i like to talk pa but am not able to i dont know y ', 'can you please send me my aunty s number', 'so how s the weather over there ', 'he also knows about lunch menu only da i know', 'life alle mone eppolum oru pole allalo', 'i anything lor ', 'cool so how come you havent been wined and dined before ', '5 nights we nt staying at port step liao too ex', 'change again it s e one next to escalator ', 'what happen dear why you silent i am tensed', 'its a laptop take it with you ', 'hows the street where the end of library walk is ', 'dear we are going to our rubber place', 'now get step 2 outta the way congrats again ', 'my uncles in atlanta wish you guys a great semester ', 'that one week leave i put know that time why ', 'can ü call me at 10 10 to make sure dat i ve woken up ', 'r we still meeting 4 dinner tonight ', 'tonight yeah i d be down for that', 'really dun bluff me leh u sleep early too nite ', 'lol enjoy role playing much ', 'super msg da nalla timing :)', 'ü still attending da talks ', 'hope you are having a great day ', 'then you are eldest know ', 'i really need 2 kiss u i miss u my baby from ur baby 4eva', 'so no messages had food ', 'ello babe u ok ', 'then she buying today ü no need to c meh ', 'wat happened to the cruise thing', 'i ll let you know when it kicks in', 'dizzamn aight i ll ask my suitemates when i get back', 'ü no home work to do meh ', 'k come to nordstrom when you re done', 'that was random saw my old roomate on campus he graduated', 'and do you have any one that can teach me how to ship cars ', 'sir send to group mail check it ', 'thanks for looking out for me i really appreciate ', 'near kalainar tv office thenampet', 'thinkin about someone is all good no drugs for that', 'only saturday and sunday holiday so its very difficult :)', 'die now i have e toot fringe again ', 'k if u bored up just come to my home ', 'can not use foreign stamps in this country ', 'i have printed it oh so lt gt come upstairs', 'hey congrats 2u2 id luv 2 but ive had 2 go home ', 'yes from last week itself i m taking live call :)', 'beerage ', 'just finished missing you plenty', 'sac will score big hundred he is set batsman :)', 'any way where are you and what doing ', 'ü bot notes oredi cos i juz rem i got ', 'mm so you asked me not to call radio', 'u sure u can t take any sick time ', 'i dunno lei like dun haf ', 'k i will sent it again', 'i will reach ur home in lt gt minutes', 'ü all write or wat ', 'no she s currently in scotland for that ', 'every day i use to sleep after lt gt so only ', 'give me a sec to think think about it', 'its ok if anybody asks abt me u tel them p:P', 'still i have not checked it da ', 'on a tuesday night r u 4 real', 'at what time should i come tomorrow', 'booked ticket for pongal ', 'whatsup there dont u want to sleep', 'so that takes away some money worries', 'good night am going to sleep ', 'mm you ask him to come its enough :)', 'i think we re going to finn s now come', 'i am going to film 2day da at 6pm sorry da ', ' error ', 'who u talking about ', 'no one interested may be some business plan ', 'yes just finished watching days of our lives i love it ', 'rofl betta invest in some anti aging products', 'i cant pick the phone right now pls send a message', 'somebody should go to andros and steal ice', 'that s the way you should stay oh ', 'does not operate after lt gt or what', 'sir i am waiting for your mail ', 'wa u so efficient gee thanx ', 'hi what you think about match ', 'try to do something dear you read something for exams', 'i m job profile seems like bpo ', 'its a part of checking iq', 'have you finished work yet :)', 'g wants to know where the fuck you are', 'yay you better not have told that to 5 other girls either ', 'what time should i tell my friend to be around ', 'yo theres no class tmrw right ', 'i m now but have to wait till 2 for the bus to pick me ', 'now i m going for lunch ', 'carlos says he ll be at mu in lt gt minutes', 'sorry went to bed early nightnight', 'sry can t talk on phone with parents', 'sindu got job in birla soft ', 'havent still waitin as usual ü come back sch oredi ', 'jordan got voted out last nite ', 'u coming 2 pick me ', 'how s ur paper ', 'sorry i ll call later in meeting ', 'now whats your house again and do you have any beer there ', 'like lt gt same question', 'hey do you want anything to buy :)', 'i m already back home so no probably not', 'you do got a shitload of diamonds though', 'no objection my bf not coming ', 'ya that one is slow as poo', 'am okay will soon be over all the best', 'u still going to the mall ', 'tiwary to rcb battle between bang and kochi ', 'i liked your new house', 'nvm take ur time ', 'did u got that persons story', 'match started india lt gt for 2', 'the table s occupied i m waiting by the tree', 'hiya had a good day have you spoken to since the weekend ', 'what type of stuff do you sing ', 'now i m going out 4 dinner soon ', 'thanks for picking up the trash ', 'oh wow thats gay will firmware update help', 'horrible bf i now v hungry ', 'well i meant as opposed to my drunken night of before', 'just nw i came to hme da ', 'dont kick coco when he s down', 'but i juz remembered i gotta bathe my dog today ', 'o shore are you takin the bus', 'oh dang i didn t mean o send that to you lol ', 'well good morning mr hows london treatin ya treacle ', 'thanks for loving me so you rock', 'ok c ya ', 'i think it s all still in my car', 'okie', 'havent ', 'ok help me ask if she s working tmr a not ', 'thanks for ve lovely wisheds you rock', 'u wake up already thanx 4 e tau sar piah it s quite nice ', 'hey happy birthday ', 'not to worry i m sure you ll get it ', 's da al r above lt gt ', 'wif my family booking tour package ', 'what you did in leave ', 'i m putting it on now it should be ready for lt time gt ', 'i can t make it tonight', 'ok i vl do u know i got adsense approved ', 'is that on the telly no its brdget jones ', 'yay can t wait to party together ', 'ok no problem yup i m going to sch at 4 if i rem correctly ', 'oh god i m gonna google nearby cliffs now ', 'mine here like all fr china then so noisy ', 'vikky come around lt time gt ', 'gud ni8 dear slp well take care swt dreams muah ', 'i think chennai well settled ', 'yup ok ', 'yeah i can still give you a ride', 'wish u many many returns of the day happy birthday vikky ', 'hey check it da i have listed da ', 'after completed degree there is no use in joining finance ', 'i am not sure about night menu i know only about noon menu', 'dear umma she called me now :)', 'still at west coast haiz ü ll take forever to come back ', 'ok thanx ', 'ü log off 4 wat it s sdryb8i', 'hahaha use your brain dear', 'hey what happen de are you alright ', 'you still at grand prix ', 'loosu go to hospital de dont let it careless ', 'when you came to hostel ', 'like a personal sized or what', 'ü ready then call me ', 'he is a womdarfull actor', 'we left already we at orchard now ', 'ya just telling abt tht incident ', 'ok anyway no need to change with what you said', 'that is wondarfull song', 'sen told that he is going to join his uncle finance in cbe', 'my sister going to earn more than me da ', 'full heat pa i have applyed oil pa :)', 'think da you wil do ', 'don know this week i m going to tirunelvai da :)', 'ok thanx gd nite 2 ü too ', 'didn t try g and i decided not to head out', 'oh okie lor we go on sat ', 'going for dinner msg you after ', ' photoshop makes my computer shut down ', 'i keep ten rs in my shelf buy two egg :)', 'where r we meeting ', 'in meeting da i will call you', 'nt joking seriously i told', 'what today sunday sunday is holiday so no work ', 'hey i m bored so i m thinking of u so wat r u doing ', 'i will treasure every moment we spend together ', 'aaooooright are you at work ', 'i m in class will holla later', 'that seems unnecessarily affectionate', 'bring tat cd don forget', 'ok but tell me half an hr b4 u come i need 2 prepare ', 'oh ho is this the first time u use these type of words', 'i have no idea where you are', 'dear take care i am just reaching home love u a lot ', 'yup how ü noe leh ', 'aight sorry i take ten years to shower what s the plan ', 'i m on da bus going home ', 'oh sorry please its over', 'where are the garage keys they aren t on the bookshelf', 'this is all just creepy and crazy to me ', 'u reach orchard already u wan 2 go buy tickets first ', 'yo guess what i just dropped', 'there is a first time for everything :)', 'hi happy birthday hi hi hi hi hi hi hi', 'okie', 'you have 1 new voicemail please call 08719181503', 'yo dude guess who just got arrested the other day', 'why i come in between you people', 'early bird any purchases yet ', 'sure i ll see if i can come by in a bit', 'haha hope ü can hear the receipt sound gd luck ', 'oh all have to come ah ', 'k k why cant you come here and search job :) :)', 'taka lor wat time u wan 2 come n look 4 us ', 'if you are not coughing then its nothing', 'don no da whats you plan :)', 'i m very happy for you babe woo hoo party on dude ', 'i m done ', 'oh ok i didnt know what you meant yep i am baby jontin', 'men like shorter ladies gaze up into his eyes ', 'sorry i ll call later', 'yes princess toledo ', 'sorry i ll call later', 'i dont have i shall buy one dear', 'from 5 to 2 only my work timing ', 'oh ok wat s ur email ', 'that s y we haf to combine n c how lor ', 'ok ', 'stupid auto correct on my phone', ' thought i didn t see you ', 'shall call now dear having food', 'k i did t see you k where are you now :) :)', 'none nowhere ikno doesdiscount shitinnit', 'can you plz tell me the ans bslvyl sent via fullonsms com', 'tell me pa how is pain de ', 'dude im no longer a pisces im an aquarius now ', 'come to me right now ahmad', 'i m vivek i got call from your number :)', 'damn poor zac doesn t stand a chance', 'ffffffffff alright no way i can meet up with you sooner ', 'k must book a not huh so going for yoga basic on sunday ', 'or remind me in a few hrs ', 'huh but i cant go 2 ur house empty handed right ', 'i m working technical support voice process :)', 'goodmorning today i am late for lt decimal gt min ;D', 'thank you i like you as well ', 'talk to g and x about that', 'yeah it s jus rite ', 'when you and derek done with class ', 'and picking them up from various points', 'many times we lose our best ones bcoz we are', 'im realy soz imat my mums 2nite what about 2moro', 'k k how is your business now ', 'hey morning what you come to ask pa :)', 'i m freezing and craving ice fml', 'i ll reach in ard 20 mins ok ', 'dear why you mood off i cant drive so i brother to drive', 'u re welcome caught u using broken english again ', 'happy new year to u too ', 'well she s in for a big surprise ', 'ya when are ü taking ure practical lessons i start in june ', 'it shall be fine i have avalarr now will hollalater', 'hey u still at the gym ', 'alright i have a new goal now', 'eh u send wrongly lar ', 'hello madam how are you ', 'i went to project centre', 'oh ok ', 'i am waiting machan call me once you free ', 'no probs hon how u doinat the mo ', 'good morning princess how are you ', ' will be september by then ', '2mro i am not coming to gym machan goodnight ', 'so what u doing today ', 'do u want 2 meet up 2morro', 'no da if you run that it activate the full version da ', 'aight ill get on fb in a couple minutes', 'lol boo i was hoping for a laugh', 'mm i am on the way to railway', 'nah i m a perpetual dd', 'oh oh wasted den muz chiong on sat n sun liao ', 'reckon need to be in town by eightish to walk from carpark ', 'doing project w frens lor ', 'well if i m that desperate i ll just call armand again', 'then anything special ', 'ha ha cool cool chikku chikku db :) :D', 'whore you are unbelievable ', 'oh thanks a lot i already bought 2 eggs ', 'hows the champ just leaving glasgow ', 'how much you got for cleaning', 'you dont know you jabo me abi ', 'aight yo dats straight dogg', 'then mum s repent how ', 'compliments to you was away from the system how your side ', 'ela kano il download come wen ur free ', 'anytime ', 'is ur paper today in e morn or aft ', 'what today sunday sunday is holiday so no work ', 'you sure your neighbors didnt pick it up', 'what will we do in the shower baby ', 'i cant wait to see you how were the photos were useful :)', 'nope i ll come online now ', 'i wanna watch that movie', 'how come ', 'its a part of checking iq', 'hi da how is the todays class :)', 'aiyo u so poor thing then u dun wan 2 eat u bathe already ', 'i ve got ten bucks jay is being noncomittal', 'ya ok vikky vl c witin lt gt mins and il reply u ', 'might ax well im there ', 'sorry i ll call later', 'machan you go to gym tomorrow i wil come late goodnight ', 'ok then i will come to ur home after half an hour', 'thanks fills me with complete calm and reassurance ', 'yo my trip got postponed you still stocked up ', 'ok i thk i got it then u wan me 2 come now or wat ', 'i attended but nothing is there ', 'yo come over carlos will be here soon', 'dear are you angry i was busy dear', 'yes i will be there glad you made it ', 'wot student discount can u get on books ', 'gud mrng dear have a nice day', 'k do i need a login or anything', 'nothing i got msg frm tht unknown no ', 'you didnt complete your gist oh ', 'you have 1 new message please call 08715205273', 'are you in castor you need to see something', 'geeeee your internet is really bad today eh ', 'nope thats fine i might have a nap tho ', 'nope c ü then ', 'tension ah what machi any problem ', 'goin to workout lor muz lose e fats ', 'how r ü going to send it to me ', 'i ll see but prolly yeah', 'dunno dat s wat he told me ok lor ', 'thank you princess i want to see your nice juicy booty ', 'i not busy juz dun wan 2 go so early hee ', 'awesome think we can get an 8th at usf some time tonight ', 'ok no prob take ur time ', 'theoretically yeah he could be able to come', 'you have 1 new voicemail please call 08719181513 ', 'sorry battery died yeah i m here', 'don t worry is easy once have ingredients ', 'takin a shower now but yeah i ll leave when i m done', 'dear got bus directly to calicut', 'so u workin overtime nigpun ', 'just sent again do you scream and moan in bed princess ', 'ü predict wat time ü ll finish buying ', 'but your brother transfered only lt gt lt gt pa ', 'sac needs to carry on :)', 'goodmorning today i am late for lt decimal gt min ;D', 'its not that time of the month nor mid of the time ', 'that s necessarily respectful', 'i am in a marriage function', 'eh den sat u book e kb liao huh ', 'huh so fast dat means u havent finished painting ', 'so what did the bank say about the money ', 'nope i m not drivin i neva develop da photos lei ', 'sorry in meeting i ll call later', 'okey dokey swashbuckling stuff what oh ', 'have you got xmas radio times if not i will get it now', 'ok leave no need to ask', 'hmmm but you should give it on one day ', 'yes but they said its it ', 'but i haf enuff space got like 4 mb ', 'take us out shopping and mark will distract isaiah d=D', 'stupid its not possible', 'k i ll be there before 4 ', 'i place all ur points on e cultures module already ', 'pls dont forget to study', 'why did i wake up on my own gt :(', 'i will come tomorrow di', 'lara said she can loan me lt gt ', 'will do have a good day', '88066 from 88066 lost 3pound help', 'just wondering the others just took off', 'ok ', 'hi msg me i m in office :)', 'did u receive my msg ', 'this pain couldn t have come at a worse time ', 'oh did you charge camera', '1 s finish meeting call me ', 'same as kallis dismissial in 2nd test :)', 'raviyog peripherals bhayandar east', 'i want to sent lt gt mesages today thats y sorry if i hurts', 'er yep sure props ', 'its sarcasm nt scarcasim', 'yeah i am so i ll leave maybe 7ish ', 'u will switch your fone on dammit ', 'you getting back any time soon ', 'yeah sure give me a couple minutes to track down my wallet', 'ha ha ha good joke girls are situation seekers ', 'i m done c ü there ', 'k eng rocking in ashes :) :)', 's s nervous lt gt :) :)', 'sorry i ll call later', 'i am in bus on the way to calicut', 'can you say what happen', 'ladies first and genus second k ', 'k i deleted my contact that why ', 'what you thinked about me first time you saw me in class ', 'call freephone 0800 542 0578 now ', 'i will reach ur home in lt gt minutes', 'lol u still feeling sick ', 'y so late but i need to go n get da laptop ', 'make that 3 4 fucks sake x', 'probably gonna swing by in a wee bit', 'how much she payed suganya ', 'come to mahal bus stop lt decimal gt ;D', 'roger that we re probably going to rem in about 20', '2 and half years i missed your friendship :)', 'also remember to get dobby s bowl from your car', 'i am real baby i want to bring out your inner tigress ', 'those were my exact intentions', 'when you guys planning on coming over ', 'going to take your babe out ', 'not yet chikku going to room nw i m in bus ', 'headin towards busetop', 'i asked you to call him now ok', 'arun can u transfr me d amt', 'u 2 ', 'y ü wan to go there c doctor ', '88800 and 89034 are premium phone services call 08718711108', 'fuuuuck i need to stop sleepin sup', 'ya very nice be ready on thursday', 'garbage bags eggs jam bread hannaford wheat chex', 'i m meeting darren ', 'thanks honey have a great day ', 'you will be in the place of that man', 'no chikku nt yet ya i m free', 'i love you both too :)', 'how are you enjoying this semester take care brother ', 'no thank you you ve been wonderful', 'this phone has the weirdest auto correct ', 'how long does applebees fucking take', 'kinda first one gets in at twelve aah speak tomo', 'you will be in the place of that man', 'win a 1000 cash prize or a prize worth 5000', 'i dunno until when lets go learn pilates ', 'jay s getting really impatient and belligerent', 'wait lt gt min ', 'no da today also i forgot ', 'i ve sent ü my part ', 'you were supposed to wake me up gt :(', 'nothing just getting msgs by dis name wit different no s ', 'are you in town this is v important', 'i dont want to hear philosophy just say what happen', 'yupz i ve oredi booked slots 4 my weekends liao ', 'it is only yesterday true true ', 'when should i come over ', 'lol yeah at this point i guess not', 'ok thanx ', 'i dont knw pa i just drink milk ', 'i can send you a pic if you like :)', 'how are you its been ages how s abj', 'may b approve panalam but it should have more posts ', 'see i thought it all through', 'i wont do anything de ', 'ok ill send you with in lt decimal gt ok ;D', 'ü neva tell me how i noe i m not at home in da aft wat ', 'orh i tot u say she now still dun believe ', 'teach me apps da when you come to college ', 'jay says that you re a double faggot', 'it could work we ll reach a consensus at the next meeting', 'and how s your husband ', 'ok is any problem to u frm him wats matter ', 'this is a long fuckin showr', 'uncle g just checking up on you do have a rewarding month', 'k k this month kotees birthday know ', 'get the door i m here', 'so lets make it saturday or monday as per convenience ', 'oh kay on sat right ', 'watching telugu movie wat abt u ', 'dun need to use dial up juz open da browser n surf ', 'what time do u get out ', ' oh well c u later;(', 'the bus leaves at lt gt ', 'da is good good player why he is unsold ', 'what does the dance river do ', 'i ll probably be around mu a lot', 'is she replying has boye changed his phone number', 'i told that am coming on wednesday ', 'can do lor ', 'yes last practice', 'ok then i come n pick u at engin ', 'i dnt wnt to tlk wid u', 'i am late i will be there at', 'carlos says we can pick up from him later so yeah we re set', 'well you know what i mean texting', 'dont gimme that lip caveboy', 'i was gonna ask you lol but i think its at 7', 'oh fine i ll be by tonight', 'i am on the way to ur home', ' you didn t hear it from me ', 'i know where the lt gt is i ll be there around 5', 'oh is it which brand ', 'yep get with the program you re slacking ', 'ok how many should i buy ', 'do not b late love mum', 'lol wtf random btw is that your lunch break', ' ow u dey i paid 60 400thousad i told u would call ', 'great i shoot big loads so get ready ', 'can not use foreign stamps in this country good lecture ', 'lets use it next week princess :)', 'so i asked how s anthony dad and your bf', 'yup', 'omg it could snow here tonite ', 'haha awesome omw back now then', 'no messages on her phone i m holding it now', 'ooooooh i forgot to tell u i can get on yoville on my phone', 'you do what all you like', 'bring it if you got it', 'shant disturb u anymore jia you ', 'do u noe wat time e place dat sells 4d closes ', 'yo the game almost over want to go to walmart soon', 'er mw im filled tuth is aight', 'apps class varaya elaya ', 'just come home i don t want u to be miserable', 'k k where are you how did you performed :)', 'nice nice how is it working ', 'hi this is roger from cl how are you ', 'i had askd u a question some hours before its answer', 'i will see in half an hour', 'u having lunch alone i now so bored ', 'update your face book status frequently :)', 'my battery is low babe', 'tell them the drug dealer s getting impatient', 'ok ok ok then whats ur todays plan', 'what s the significance ', 'pick ur fone up now u dumb ', 'well i know z will take care of me so no worries ', 'yup i thk so until e shop closes lor ', 'jus finished avatar nigro', 'god bless get good sleep my dear i will pray ', 'happy new years melody ', 'customer place i will call you', 'yo yo yo byatch whassup ', 'ya srsly better than yi tho', 'dunno lei he neva say ', 'at the funeral home with audrey and dad', 'he telling not to tell any one if so treat for me hi hi hi', 'please ask mummy to call father', 'is there any training tomorrow ', 'mom wants to know where you at', 'so ü ll be submitting da project tmr rite ', 'i will vote for wherever my heart guides me', 'yup i m free ', 'sorry i ll call later', 'what time is ur flight tmr ', 'there are many company tell me the language ', 'mum ask ü to buy food home ', 'i am in hospital da i will return home in evening', 'k k are you in college :)', 'ok no prob ', 'asking do u knw them or nt may be ur frnds or classmates ', 'k k from tomorrow onwards started ah ', 'enjoy urself tmr ', 'im just wondering what your doing right now ', 'will you like to be spoiled :)', 'i anything lor ', 'i dnt wnt to tlk wid u', 'i finished my lunch already u wake up already ', 'my sister got placed in birla soft da :)', 'in da car park', 'well i might not come then ', 'are you plans with your family set in stone ', 'hows that watch resizing', 'i am on the way to ur home', 'i ask if u meeting da ge tmr nite ', 'once free call me sir ', 'later i guess i needa do mcat study too ', 'have your lunch and come quickly and open the door :)', 'now project pa after that only i can come ', 'i cant pick the phone right now pls send a message', 'aight call me once you re close', 'okie ', 'mode men or have you left ', 'i dled 3d its very imp', 'how dare you change my ring', 'sorry my roommates took forever it ok if i come by now ', 'its just the effect of irritation just ignore it', 'gudnite tc practice going on', 'yar lor actually we quite fast cos da ge slow wat haha ', 'didn t you get hep b immunisation in nigeria ', 'aight i ll ask a few of my roommates', 'lol i knew that i saw him in the dollar store', 'ok i am on the way to home hi hi', 'haha figures well i found the piece and priscilla s bowl', '2marrow only wed at lt gt to 2 aha ', 'yes i m small kid and boost is the secret of my energy ', 'its too late but its k wish you the same :)', 'dear i have reache room', 'sorry mail ', 'daddy will take good care of you :)', 'sir i need axis bank account no and bank address ', 'please tell me not all of my car keys are in your purse', 's antha num corrct dane', 'y de asking like this ', 'at what time should i come tomorrow', 'sure whenever you show the fuck up gt :(', 'haven t seen my facebook huh lol ', 'it took mr owl 3 licks', 'lol what happens in vegas stays in vegas', 'have you been practising your curtsey ', 'look at the fuckin time what the fuck you think is up', 'yunny i m goin to be late', 'check wid corect speling i e sarcasm', 'dunno lei i thk mum lazy to go out i neva ask her yet ', 'come round it s ', 'oh is it send me the address', 'thank you and by the way i just lost ', 'wat time ü finish ', 'are you driving or training ', 'i pocked you up there before', 'filthy stories and girls waiting for your', 'hey r ü still online i ve finished the formatting ', 'ok that s great thanx a lot ', 'all done all handed in celebrations in full swing yet ', 'ugh fuck it i m resubbing to eve', 'r u still working now ', 'great comedy cant stop laughing da :)', 'printer is cool i mean groovy wine is groovying', 'east coast', 'sounds gd haha can wah u yan jiu so fast liao ', 'pandy joined 4w technologies today he got job ', 'when did dad get back ', 'how much is blackberry bold2 in nigeria ', 'dai lt gt naal eruku ', 'thts wat wright brother did to fly ', 'aight what time you want me to come up ', 'shuhui has bought ron s present it s a swatch watch ', 'i doubt you could handle 5 times per night in any case ', 'sorry pa i dont knw who ru pa ', 'then cant get da laptop my matric card wif ü lei ', 'no message no responce what happend ', 'oh only 4 outside players allowed to play know:)', 'ü takin linear algebra today ', 'sorry i missed your call can you please call back ', 'sent me ur email id soon', 'id onluy matters when getting on from offcampus', 'guessin you ain t gonna be here before 9 ', 'we re finally ready fyi', 'ambrith madurai met u in arun dha marrge remembr ', 'wait i will come out lt gt min :)', 'two teams waiting for some players', 'ya it came a while ago', 'onum ela pa normal than ', 'hey whats up u sleeping all morning ', 'ok she ll be ok i guess', 'ok ', 'did u see what i posted on your facebook ', 'ding me on ya break fassyole blacko from londn', 'just curious because my cuz asked what i was up to', 'easy ah sen got selected means its good ', 'oh ho is this the first time u use these type of words', 'its good we ll find a way', 'im late tellmiss im on my way', 'sorry i ll call later', 'just sent it so what type of food do you like ', 'sorry i ll call later in meeting ', 'not able to do anything ', 'did u fix the teeth if not do it asap ok take care ', 'i will come tomorrow di', 'why you dint come with us ', 'i meant middle left or right ', 'haven t left yet so probably gonna be here til dinner', 'i am in tirupur call you da ', 'after the drug she will be able to eat ', 'dont let studying stress you out l8r ', 'i m in class did you get my text ', 'your dad is back in ph ', 'if u sending her home first it s ok lor i m not ready yet ', 'dear i am not denying your words please', 'sorry i ll call later', 'no message no responce what happend ', 'k i ll work something out', 'i m leaving my house now ', 'i havent lei next mon can ', 'not for possession especially not first offense', 'alright i ll make sure the car is back tonight', 'you have 1 new message please call 08712400200 ', 'yup ok thanx ', 'sorry i ll call later', 'watching tv lor nice one then i like lor ', 'is it your yahoo boys that bring in the perf or legal ', 'do you want bold 2 or bb torch', 'ok how you dear did you call chechi', 'nope i waiting in sch 4 daddy ', 'i thought slide is enough ', 'i want to grasp your pretty booty :)', 'i have a date on sunday with will ', 'ok i am on the way to railway', 'haf u found him i feel so stupid da v cam was working ', 'then dun wear jeans lor ', 'what was she looking for ', 'have got few things to do may be in pub later ', 'no few hours before went to hair cut ', 'hey tmr meet at bugis 930 ', 'aight lemme know what s up', 'studying but i ll be free next weekend ', 'alex says he s not ok with you not being ok with it', 'hey i ve booked the 2 lessons on sun liao ', 'lol its ok i didn t remember til last nite', 'i dont thnk its a wrong calling between us', 'happy new year hope you are having a good semester', 'ok then r we meeting later ', 'ok let u noe when i leave my house ', 'may i call you later pls', 'lmao you know me so well ', 'thanks i ll keep that in mind', 'i can make it up there squeezed lt gt bucks out of my dad', 'but pls dont play in others life ', 'ok lor wat time ü finish ', 'yes its possible but dint try pls dont tell to any one k', 'it s ok at least armand s still around', 'i jokin oni lar ü busy then i wun disturb ü ', 'goodnight sleep well da please take care pa please ', 'i fetch yun or u fetch ', 'greetings me consider yourself excused ', 'how much i gave to you morning ', 'for my family happiness ', 'what time you thinkin of goin ', 'it means u could not keep ur words ', 'k u also dont msg or reply to his msg ', 'now thats going to ruin your thesis ', 'aight text me tonight and we ll see what s up', 'aight sounds good when do you want me to come down ', 'ok da i already planned i wil pick you ', 'yes there were many sweets', 'my sister cleared two round in birla soft yesterday ', 'k k how much does it cost :)', 'en chikku nange bakra msg kalstiya then had tea coffee ', 'ok thanx take care then ', 'if i let you do this i want you in the house by 8am ', 'you call times job today ok umma and ask them to speed up', 'howz pain hope u r fine ', 'no message no responce what happend ', 'i m a guy browsin is compulsory', 'are you this much buzy', 'pick you up bout 7 30ish what time are and that going ', 'how will i creep on you now _ ', 'aight tomorrow around lt gt it is', 'does daddy have a bb now ', 'yes mum lookin strong :)', 'do you think i can move lt gt in a week', 'are u awake is there snow there ', 'fuck cedar key and fuck her come over anyway tho ', 'mmm so yummy babe nice jolt to the suzy', 'esplanade lor where else ', 'you still coming tonight ', 'the basket s gettin full so i might be by tonight', 'and pls pls drink plenty plenty water', 'yup thk of u oso boring wat ', 'u meet other fren dun wan meet me ah muz b a guy rite ', 'how long has it been since you screamed princess ', 'moji just informed me that you saved our lives thanks ', 'i liked the new mobile', 'k k apo k good movie :)', 'just do what ever is easier for you', 'that means get the door', 'can you talk with me ', 'ok ', 'do you know when the result ', 'send to someone else :)', 'when are you going to ride your bike ', 'miss ya need ya want ya love ya ', 'otherwise had part time job na tuition ', 's no competition for him :)', 's but he had some luck 2 catches put down :) :)', 'geeeee i love you so much i can barely stand it', 'hahaha use your brain dear', 'ok ü finishing soon ', 'i dont want to hear anything', 'here is my new address apples pairs all that malarky', 'can i get your opinion on something first ', 'oh k i m watching here :)', 'and he s apparently bffs with carly quick now', 'okie thanx ', 'u calling me right call my hand phone ', 'gudnite tc practice going on', 'awesome text me when you re restocked', 'howz that persons story', 'excellent are you ready to moan and scream in ecstasy ', 'my exam is for february 4 wish you a great day ', 'aight see you in a bit', 'excellent wish we were together right now ', 'when you are big god will bring success ', 'yeah don t go to bed i ll be back before midnight', 'baaaaaaaabe wake up i miss you i crave you i need you ', 'are you staying in town ', 'he remains a bro amongst bros', 'not sure yet still trying to get a hold of him', 'no need to buy lunch for me i eat maggi mee ', 'havent shopping now lor i juz arrive only', 'i m gonna rip out my uterus ', 'sat right okay thanks ', 'yeah where s your class at ', 'are you coming to day for class ', 'ok can ', 'ü dun wan to watch infernal affair ', 'hi test on lt gt rd ', 'ok cool see ya then ', 'erm i thought the contract ran out the4th of october ', 'yep then is fine 7 30 or 8 30 for ice age ', 'hmm well night night', 'hey i will be late i m at amk need to drink tea or coffee', 'you have got tallent but you are wasting ', 'tmr timin still da same wat cos i got lesson until 6 ', 'great i m in church now will holla when i get out', 'remind me how to get there and i shall do so', 'customer place i wil cal u sir ', 'i sent them do you like ', 'yeah get the unlimited', 'i am in tirupur da once you started from office call me ', 'i m aight wat s happening on your side ', 'dude sux for snake he got old and raiden got buff', 'that s what i love to hear v see you sundayish then', 'so u gonna get deus ex ', 'be sure to check your yahoo email we sent photos yesterday', 'so when you gonna get rimac access', 'nah can t help you there i ve never had an iphone', 'pete can you please ring meive hardly gotany credit', 'am i that much bad to avoid like this ', 'sorry was at the grocers ', 'yeah that d pretty much be the best case scenario', 'wat time ü wan today ', 'i wil be there with in lt gt minutes got any space', 'i m awake oh what s up ', 'slept i thinkthis time lt gt pm is not dangerous', 'ok i m gonna head up to usf in like fifteen minutes', 'you in your room i need a few', 'of course i guess god s just got me on hold right now ', 'yes princess are you going to make me moan ', 'will you come online today night', 'you re gonna have to be way more specific than that', 'jus finish watching tv u ', 'did u get that message', ' and don t worry we ll have finished by march ish ', 'gud mrng dear hav a nice day', 'nt yet chikku simple habba hw abt u ', 'i dunno they close oredi not ü v ma fan ', 'hey so whats the plan this sat ', 'get ready for lt gt inches of pleasure ', 'huh i cant thk of more oredi how many pages do we have ', 'please don t text me anymore i have nothing else to say ', 'tell where you reached', 'hey you told your name to gautham ah ', 'kate jackson rec center before 7ish right ', 'yep by the pretty sculpture', 'ok i only ask abt e movie u wan ktv oso ', 'i sent your maga that money yesterday oh ', 'midnight at the earliest', ' you gonna ring this weekend or wot ', 'i m in a movie call me 4 wat ', 'ok very good its all about making that money ', 'well there s still a bit left if you guys want to tonight', 'i m still pretty weak today bad day ', 'finally the match heading towards draw as your prediction ', 'then u drive lor ', 'i dont thnk its a wrong calling between us', 'is xy in ur car when u picking me up ', 'no he joined today itself ', 'k k any special today ', 'nvm it s ok ', 'k k pa had your lunch aha ', 'xy trying smth now u eat already we havent ', 'even if he my friend he is a priest call him now', 'i will see in half an hour', 'are you willing to go for aptitude class ', 'i have a rather prominent bite mark on my right cheek', 'you made my day do have a great day too ', 'no did you check i got his detailed message now', 'how come i din c ü yup i cut my hair ', 'if we win its really no 1 side for long time ', 'where is it is there any opening for mca ', 'rofl its true to its name', 'sorry i ll call later', 'have you heard from this week ', 'i love working from home :)', 'sorry i ll call later', 'ok', 'don no da whats you plan :)', 'aiyah then i wait lor then u entertain me hee ', 'probably a couple hours tops', 'yavnt tried yet and never played original either', 'we re on the opposite side from where we dropped you off', 'idea will soon get converted to live :)', 'i felt so not any conveying reason ese he what about me ', 'i ll leave around four ok ', 'lmao nice 1', 'so gd got free ice cream i oso wan ', 'i cant pick the phone right now pls send a message', 'i m at home please call', 'ok be careful don t text and drive ', 'i might go 2 sch yar at e salon now v boring ', 'carlos took a while again we leave in a minute', 'lovely smell on this bus and it ain t tobacco ', 'thx all will be well in a few months', 's but not able to sleep ', 'nope watching tv at home not going out v bored ', 'if we hit it off you can move in with me :)', 's this will increase the chance of winning ', 'do u noe how 2 send files between 2 computers ', 'don know he is watching film in computer ', 'just sleeping and surfing', 'am up to my eyes in philosophy', 'yup ü not comin :(', 'just sleeping and surfing', 'hey iouri gave me your number i m wylie ryan s friend', 'whats the staff name who is taking class for us ', 'you see the requirements please', 'hi dude hw r u da realy mising u today', 'just taste fish curry p:P', 'ü still got lessons ü in sch ', 'but i ll b going 2 sch on mon my sis need 2 take smth ', 'no prob i will send to your email ', 'sorry da i gone mad so many pending works what to do ', 'easy ah sen got selected means its good ', 'oh yeah i forgot u can only take 2 out shopping at once ', 'me also da i feel yesterday night wait til 2day night dear ', 'i got your back do you have any dislikes in bed ', 'that s my honeymoon outfit :)', 'no i am not having not any movies in my laptop', 'i hope you know i m still mad at you ', 'as in missionary hook up doggy hook up standing ', 'oh icic k lor den meet other day ', 'wen did you get so spiritual and deep that s great', 'i see the letter b on my car', 'sorry i ll call later', 'and maybe some pressies', 'pity was in mood for that so any other suggestions ', 'shall i come to get pickle', 'i m going to try for 2 months ha ha only joking', 'what you need you have a person to give na ', 'yep i do like the pink furniture tho ', 'and several to you sir ', '2 laptop i noe infra but too slow lar i wan fast one', 'den wat will e schedule b lk on sun ', 'so i could kiss and feel you next to me ', 'im good i have been thinking about you ', 'can ü send me a copy of da report ', 'no need to say anything to me i know i am an outsider', 'well you told others you d marry them ', 'sounds great are you home now ', 'where you what happen', 'thank u ', 'i have to take exam with march 3', 'you will be in the place of that man', 'i m home ', 'oi when you gonna ring', 'hey gals anyone of u going down to e driving centre tmr ', 'u know we watchin at lido ', 'i want lt gt rs da do you have it :)', 'when u wana see it then', 'k then 2marrow are you coming to class ', 'by monday next week give me the full gist', 'ok set let u noe e details later ', 'have you not finished work yet or something ', 'oh k why you got job then whats up :)', 'come to mu we re sorting out our narcotics situation', 'arms fine how s cardiff and uni ', 'whatever juliana do whatever you want ', 'lmao but its so fun ', 'watching tv lor ', 'hey i ve booked the pilates and yoga lesson already haha', 'umma did she say anything', 'why is that princess i bet the brothas are all chasing you ', 'ya going for restaurant :)', 'may i call you later pls', 'the battery is for mr adewale my uncle aka egbon', 'ps u no ur a grown up now right ', 'gud mrng dear hav a nice day', 'your right i ll make the appointment right now ', 'no da vijay going to talk in jaya tv', 'wot u up 2 j ', 'you also didnt get na hi hi hi hi hi', 'everybody had fun this evening miss you ', 'wife how she knew the time of murder exactly', 'hey what are you doing y no reply pa ', 'cool we will have fun practicing making babies ', 'oh yeah clearly it s my fault', 'i dont understand your message ', 'hey leave it not a big deal take care :)', 'hmm ill have to think about it ok you re forgiven d=D', 'haha get used to driving to usf man i know a lot of stoners', 'am not interested to do like that ', 'i don t think he has spatula hands ', 'i havent add ü yet right ', 'mostly sports type lyk footbl crckt ', 'ya had just now onion roast ', 'you bad girl i can still remember them', 'no problem talk to you later', 'wishing you a wonderful week ', 'mah b i ll pick it up tomorrow', 'thank god they are in bed ', 'he didn t see his shadow we get an early spring yay', 'haha yeah i see that now be there in a sec', 'chk in ur belovd ms dict', 'k k then watch some films :) :)', 'why tired what special there you had', 'meet after lunch la ', 'mmm fuck merry christmas to me', 'when you get free call me', 'hi hope you had a good day have a better night ', 'i uploaded mine to facebook', 'what class of lt gt reunion ', 'also track down any lighters you can find', 'where s my boytoy i miss you what happened ', 'i m reaching in another 2 stops ', 'nite ', 'you are right meanwhile how s project twins comin up', 'y bishan lei i tot ü say lavender ', 'it has issues right now ill fix for her by tomorrow ', 'try neva mate ', 'ok ', 'but i have to i like to have love and arrange ', 'ok then i will come to ur home after half an hour', 'jus came back fr lunch wif my sis only u leh ', 'k k why cant you come here and search job :) :)', 'his bday real is in april ', 'haha i think i did too', 'sorry i ll call later', 'no plm i will come da on the way ', '2 2 146tf150p', 'so can collect ur laptop ', 'i cant pick the phone right now pls send a message', 'what year and how many miles ', 'ofcourse i also upload some songs', 'aathi where are you dear ', 'sorry i ll call later', 'good evening how are you ', 'that s significant but dont worry ', 'you flippin your shit yet ', 'dear got train and seat mine lower seat', 'i ve been trying to reach him without success', 'sir i am waiting for your call once free please call me ', 'simply sitting and watching match in office ', 'good morning plz call me sir', 'lol oh you got a friend for the dog ', 'which is weird because i know i had it at one point', 'ok there may be a free gym about ', 'lmao ok i wont be needing u to do my hair anymore ', 'hmmm still we dont have opener ', 'send me yetty s number pls ', 'stop knowing me so well ', 'got meh when ', 'whatever im pretty pissed off ', 'this is one of the days you have a billion classes right ', 'have you ever had one foot before ', 'apo all other are mokka players only', 'watching ajith film ah ', 'i am great princess what are you thinking about me :)', 'hanks lotsly ', 'ta daaaaa i am home babe are you still up ', 'with my sis lor we juz watched italian job ', 'nope i m still in the market', 'sorry i can t text amp drive coherently see you in twenty', 'my drive can only be read i need to write', 'they finally came to fix the ceiling ', 'a boy was late 2 home his father power of frndship ', 'i m at work please call', 'alright see you in a bit', 'good stuff will do ', 'hmm thinking lor ', 'wat r u doing now ', 'you got called a tool ', 'it s really getting me down just hanging around ', 'how are you wish you a great semester', 'he is world famamus ', 'fine i miss you very much ', 'what makes you most happy ', 'lol yes but it will add some spice to your day ', 'kothi print out marandratha ', 'hey what s up charles sorry about the late reply ', 'awesome lemme know whenever you re around', 'i hope your pee burns tonite ', 'u can call now ', 'no let me do the math your not good at it ', 'hurry up i ve been weed deficient for like three days', 'just now saw your message it k da :)', 'and by when you re done i mean now', 'as usual iam fine happy amp doing well :)', '26th of july', 'networking job is there ', 'sorry i ll call later', 'poyyarikatur kolathupalayam unjalur post erode dis lt gt ', 'po de no need job aha :) :) :) :) :)', 'i want to sent lt gt mesages today thats y sorry if i hurts', 'dont you have message offer', 'i am great how are you ', 'oooh i got plenty of those ', 'ok ur typical reply ', 'where is that one day training :)', 'no she didnt i will search online and let you know ', 'where do you need to go to get it ', 'just wait till end of march when el nino gets himself oh ', 'k k how is your sister kids ', 'otherwise had part time job na tuition ', 'i didnt get ur full msg sometext is missing send it again', 'in e msg jus now u said thanks for gift ', 'boy you best get yo ass out here quick', 'so u wan 2 come for our dinner tonight a not ', 'r u sam p in eachother if we meet we can go 2 my house', 'so i m doing a list of buyers ', 'haha sounds crazy dunno can tahan anot ', 'happy new year princess ', 'yup but not studying surfing lor i m in e lazy mode today ', 'hi i won t b ard 4 christmas but do enjoy n merry x mas ', 'some of them told accenture is not confirm is it true ', 'surly ill give it to you while coming to review :)', 'wot u up 2 thout u were gonna call me txt bak luv k', 'glad to see your reply ', 'what hello wats talks email address ', 'how was txting and driving', 'call me when u finish then i come n pick u ', 'well i m glad you didn t find it totally disagreeable lol', 'you will go to walmart i ll stay ', 'what about this one then ', 'will be out of class in a few hours sorry', 'i am sorry it hurt you ', 'oh just getting even with u u ', 'stupid its not possible', 'u too ', 'hey there babe how u doin wot u up 2 2nite love annie x ', 'should i head straight there or what', 'dunno da next show aft 6 is 850 toa payoh got 650 ', 'rct thnq adrian for u text rgds vatian', 'are you there in room ', 'did you try making another butt ', 'its normally hot mail com you see ', 'i keep ten rs in my shelf buy two egg :)', 'g says you never answer your texts confirm deny', 'private your 2003 account statement for 078', 'i am not having her number sir', 'ok take care umma to you too ', 'it vl bcum more difficult ', 'will it help if we propose going back again tomorrow', 'thanks love but am i doing torch or bold ', 'no its true k do u knw dis no lt gt ', 'cause i m not freaky lol', 'am slow in using biola s fne', 'babe i love you covers your face in kisses ', 'i will cal you sir in meeting', 'then ü come n pick me at 530 ar ', 'you always make things bigger than they are', 'yes princess i want to make you happy ', 'yup i thk cine is better cos no need 2 go down 2 plaza mah ', 'sorry i can t help you on this ', 'sorry i ll call later', 'whens your radio show ', 'i ll post her out l8r in class', 'k i will sent it again', 'fair enough anything going on ', 'oh god taken the teeth is it paining', 'noice text me when you re here', 'i m ok will do my part tomorrow', 'was the actual exam harder than nbme', 'dai what this da can i send my resume to this id ', 'i can probably come by everybody s done around lt gt right ', 'are you not around or just still asleep v', 'hope you are not scared ', '645', 'long beach lor expected u having dinner now ', 'i m coming home 4 dinner ', 'ya tel wats ur problem ', 'as in i want custom officer discount oh ', 'tomarrow final hearing on my laptop case so i cant ', 'went fast asleep dear take care ', 'im on gloucesterroad what are uup to later ', 'wot u up 2 u weirdo ', 'yeah that s fine it s 6 to get in is that ok ', 'lmao take a pic and send it to me ', 'happened here while you were adventuring', 'going to join tomorrow ', 'if india win or level series means this is record :)', 'beauty sleep can help ur pimples too ', 'sent me de webadres for geting salary slip', 'you can never do nothing', 'oh ok no prob ', 'what happen dear tell me', 'goodnight da thangam i really miss u dear ', 'awesome be there in a minute', 'did u got that persons story', 'just checked out heading out to drop off my stuff now', 'hi chikku send some nice msgs', 'gran onlyfound out afew days ago cusoon honi', 'so when do you wanna gym harri', 'well i m gonna finish my bath now have a good fine night ', 'much better now thanks lol', 'sorry da thangam very very sorry i am held up with prasad ', 'networking technical support associate ', 'play w computer aiyah i tok 2 u lor ', ' are you in the pub ', 'we have to pick rayan macleran there ', 'k wat s tht incident ', 'love it i want to flood that pretty pussy with cum ', 'sday only joined so training we started today :)', 'did you say bold then torch later or one torch and 2bold ', 'sorry i ll call later', 'lol alright i was thinkin that too haha', 'hi good mornin thanku wish u d same ', 'yup leaving right now be back soon', 'sweet heart how are you ', 'r ü comin back for dinner ', 'que pases un buen tiempo or something like that', 'are you this much buzy', 'true its easier with her here ', 'except theres a chick with huge boobs ', 'long time you remember me today ', 'yes nigh you cant aha ', 'i went to project centre', 'yeah we wouldn t leave for an hour at least how s 4 sound ', 'k k congratulation :)', 'umma my life and vava umma love you lot dear', 'yep at derek s house now see you sunday lt 3', 'i reach home safe n sound liao ', 'go where n buy juz buy when we get there lar ', 'i see a cup of coffee animation', 'tee hee off to lecture cheery bye bye ', 'where are you lover i need you ', 'as usual iam fine happy amp doing well :)', 'pls she needs to dat slowly or she will vomit more ', 'do you always celebrate ny s with your family ', 'well i m going to be an aunty ', 'no need lar i go engin cos my sis at arts today ', 'just glad to be talking to you ', 'yup from what i remb i think should be can book ', '4 oclock at mine just to bash out a flat plan ', 'but if she s drinkin i m ok ', 'wanna do some art d:D', 'ok ', 'and how you will do that princess :)', 'is fujitsu s series lifebook good ', 'nice nice how is it working ', 'are you being good baby :)', 'ok i m coming home now ', 'from tomorrow onwards eve 6 to 3 work ', 'i m in a movie collect car oredi ', 'i have lost 10 kilos as of today ', 'really i crashed out cuddled on my sofa ', 'alright we re all set here text the man', 'i cant pick the phone right now pls send a message', 'minimum walk is 3miles a day ', 'take care n get well soon', 'dude we should go sup again', 'i just saw ron burgundy captaining a party boat so yeah', 'i m in chennai velachery :)', 'i m done oredi ', 'k i ll take care of it', 'reverse is cheating that is not mathematics ', 'lol well quality aint bad at all so i aint complaining', 'i guess you could be as good an excuse as any lol ', 'i m not coming over do whatever you want', 'i dont know exactly could you ask chechi ', 'must come later i normally bathe him in da afternoon mah ', 'convey my regards to him', 'oh yes why is it like torture watching england ', 'ok ', 'mm yes dear look how i am hugging you both p:P', 'cab is available they pick up and drop at door steps ', 'life style garments account no please ', 'first answer my question ', 'yar lor keep raining non stop or u wan 2 go elsewhere ', 'now press conference da :)', 'going on nothing great bye', 'finished class where are you ', ' :)', 'please dont say like that hi hi hi', 'not directly behind abt 4 rows behind ü ', 'did u got that persons story', 'k k its good when are you going :) :)', 'we can make a baby in yo tho', ' error ', 'no need for the drug anymore ', 'ü got wat to buy tell us then ü no need to come in again ', 'lol your always so convincing ', 'yup', 'ü v ma fan ', 'i ve reached home n i bathe liao u can call me now ', 'thanx a lot ', 'waiting in e car 4 my mum lor u leh reach home already ', 'i asked sen to come chennai and search for job ', 'since when which side any fever any vomitin ', 'normally i use to drink more water daily :)', 'we stopped to get ice cream and will go back after', 'is that seriously how you spell his name ', 'so how many days since then ', 'dont talk to him ever ok its my word ', 'thank you princess you are so sexy ', 'no way i m going back there ', 'i went to ur hon lab but no one is there ', 'good morning plz call me sir', 'i m reaching home in 5 min ', 's s first time dhoni rocks ', 'me i m not workin once i get job ', 'fine do you remember me ', 'i sent them do you like ', 'u attend ur driving lesson how many times a wk n which day ', 'good morning plz call me sir', 'okay but i thought you were the expert', 'keep my payasam there if rinu brings', 'do you know when dad will be back ', 'i didn t get the second half of that message', 'great i have to run now so ttyl ', 'i can take you at like noon', 'what happen to her tell the truth', 'dear we got lt gt dollars hi hi', 'no jst change tat only ', 'bbq this sat at mine from 6ish ur welcome 2 come', 'i m at home please call', 'i will reach before ten morning', 'good evening this is roger how are you ', 'hi harish s rent has been transfred to ur acnt ', 'happy new year my no 1 man', 'k go and sleep well take rest :)', 'i will be outside office take all from there', 'i love u 2 my little pocy bell i am sorry but i love u', 'friends that u can stay on fb chat with', 'hope you are having a good week just checking in', 'also tell him i said happy birthday', 'jus finish bathing ', 'sorry i will be able to get to you see you in the morning ', 'ok no wahala just remember that a friend in need ', 'are you wet right now ', 'sorry brah just finished the last of my exams what up', 'sorry sir i will call you tomorrow senthil hsbc', 'i m glad you are following your dreams ', 'spoons it is then okay ', 'how tall are you princess ', 'were gonna go get some tacos', 'how izzit still raining ', 'no screaming means shouting ', 'that s good because i need drugs', 'yo we are watching a movie on netflix', 'lol that would be awesome payback ', 'g w r', 'aight do you still want to get money', 'no my mum went 2 dentist ', 'alright omw gotta change my order to a half8th', 'no current and food here i am alone also', 'your brother is a genius', 'nutter cutter ctter cttergg cttargg ctargg ctagg ie you', 's but mostly not like that ', 'okay i booked all already including the one at bugis ', 'i ve got lt gt any way i could pick up ', 'cool want me to go to kappa or should i meet you outside mu', 'thanks and or bomb and date as my phone wanted to say ', 'yup next stop ', 'k you are the only girl waiting in reception ah :)', 'your pussy is perfect ', 'kent vale lor ü wait 4 me there ar ', 'k k sms chat with me :)', 'yes rent is very expensive so its the way we save ', 'did u download the fring app ', 'we r outside already ', 'omw back to tampa from west palm you hear what happened ', 'sir i am waiting for your call ', 'cramps stopped going back to sleep', 's now only i took tablets reaction morning only ', 'just getting back home', 'me fine absolutly fine', 'ü only send me the contents page ', 'i dont know why she s not getting your messages', 'then get some cash together and i ll text jason', 'anything lor if they all go then i go lor ', 'then ur sis how ', 'tell them no need to investigate about me anywhere ', 'are you still getting the goods ', 'k still are you loving me ', 'tell me something thats okay ', 'nope since ayo travelled he has forgotten his guy', 'cancel cheyyamo and get some money back ', 'armand says get your ass over to epsilon', 'oh you got many responsibilities ', 'sorry da today i wont come to play i have driving clas ', 'i will spoil you in bed as well :)', 'call me i am senthil from hsbc ', 'i was slept that time you there ', '100 dating service cal l 09064012103 box334sk38ch', 'auntie huai juan never pick up her phone', 'hey company elama po mudyadhu ', 'i m fine hope you are good do take care ', 'then why you came to hostel ', 'no my blankets are sufficient thx', 'another month i need chocolate weed and alcohol ', 'aiyah u did ok already lar e nydc at wheellock ', 'these won t do have to move on to morphine', 'no that just means you have a fat head', 'in which place i can get rooms cheap :)', 'yes please leave at lt gt so that at lt gt we can leave', 'yar else i ll thk of all sorts of funny things ', 'hiya probably coming home weekend after next', 'do you know where my lab goggles went', 'pls help me tell ashley that i cant find her number oh', 'wait 2 min stand at bus stop', 'do you still have the grinder ', 'can you do a mag meeting this avo at some point ', 'i cant pick the phone right now pls send a message', 'can dunno wat to get 4 her ', 'k sure am in my relatives home sms me de pls :)', 'just finished eating got u a plate not leftovers this time ', 'where are you when wil you reach here ', 'nothing can ', 'lol have you made plans for new years ', 'smith waste da i wanna gayle ', 'lol grins i m not babe but thanks for thinking of me ', 'gibbs unsold mike hussey', 'on the way to office da ', 'sorry no have got few things to do may be in pub later ', 'that s very rude you on campus ', 'that s a shame maybe cld meet for few hrs tomo ', 'i dont have that much image in class ', 'university of southern california ', 'good words but words may leave u in dismay many times ', 'k k advance happy pongal :)', 'my phone', 'thanks for sending this mental ability question ', 'anything lor but toa payoh got place 2 walk meh ', 'yeah imma come over cause jay wants to do some drugs', 'haha just kidding papa needs drugs', 'lol ok your forgiven :)', 'ok then u tell me wat time u coming later lor ', 'i wont touch you with out your permission ', 'pls come quick cant bare this ', 'hi this is yijue can i meet u at 11 tmr ', 'thought we could go out for dinner i ll treat you seem ok ', 'freemsg fav xmas tones reply real', 'not sure i have the stomach for it ', 'haha just what i was thinkin', 'sorry i ll call later', 'surely result will offer :)', 'we got a divorce lol she s here', 'it s a taxt massage tie pos argh ok lool ', 'alright took the morphine back in yo ', 'great so should i send you my account number ', 'where are you you said you would be here when i woke :(', 'o ic lol should play 9 doors sometime yo', 'how about clothes jewelry and trips ', 'hasn t that been the pattern recently crap weekends ', 'lol no u can trust me ', 'dare i ask any luck with sorting out the car ', 'good morning princess how are you ', 'yes i know the cheesy songs from frosty the snowman :)', 'just haven t decided where yet eh ', 'how much for an eighth ', 'u still painting ur wall ', 'ultimately tor motive tui achieve korli ', 'indeed and by the way it was either or not both ', 'how long does it take to get it ', 'well that must be a pain to catch', 'k give me a sec breaking a lt gt at cstore', 'yun buying but school got offer 2000 plus only ', 'you want to go ', 'okie but i scared u say i fat then u dun wan me already ', 'was playng 9 doors game and gt racing on phone lol', 'same wana plan a trip sometme then', 'those ducking chinchillas', 'lol where do u come up with these ideas ', 'what you doing how are you ', 'we have all rounder so not required :) :)', 'ok going to sleep hope i can meet her ', 'k text me when you re on the way', 'not getting anywhere with this damn job hunting over here ', 'old orchard near univ how about you ', 'convey my regards to him', 'ok', 'watching tv now i got new job :)', 'wot is u up 2 then bitch ', 'carlos ll be here in a minute if you still need to buy', 'no calls messages missed calls', 'aight we ll head out in a few', 'no break time one how i come out n get my stuff fr ü ', 'still in customer place', 'hi i m sorry i missed your call can you pls call back ', 'moji i love you more than words have a rich day', 'was it something u ate ', 'correct so how was work today', 'jus chillaxin what up', 'tell me whos this pls :)', 'serious what like proper tongued her', 'seriously tell her those exact words right now ', 'dear how is chechi did you talk to her', 'i know you mood off today', 'what not under standing ', 'captain is in our room :)', 'where ', 'k i will sent it again', 'i ve reached already ', 'she s borderline but yeah whatever ', 'thanks chikku gud nyt :)', 'it s that time of the week again ryan', 'lil fever now fine :) :)', 'sorry that was my uncle i ll keep in touch', 'what part of don t initiate don t you understand', 'no but the bluray player can', 'ill be there on lt gt ok ', 'you have 1 new message call 0207 083 6089', 'then we gotta do it after that', 'oh god i am happy to see your message after 3 days', 'i m serious you are in the money base', 'bugis oso near wat ', 'ü mean it s confirmed i tot they juz say oni ok then ', 'i m in a meeting call me later at', 'sorry in meeting i ll call later', 'me not waking up until 4 in the afternoon sup', 'yup it s at paragon i havent decided whether 2 cut yet hee ', 'is xy going 4 e lunch ', 'k k yesterday i was in cbe ', 'also are you bringing galileo or dobby', 'hey there s veggie pizza ', 'then i buy ', 'ya even those cookies have jelly on them', 'also hi wesley how ve you been', 'happy birthday to you dear with lots of love rakhesh nri', 'morning only i can ok ', 'i m wif him now buying tix lar ', 'i come n pick ü up come out immediately aft ur lesson ', 'its sunny in california the weather s just cool', 'oh ok wait 4 me there my lect havent finish', 'oops 4 got that bit ', 'jay told me already will do', 'dont put your phone on silent mode ok', 'yes here tv is always available in work place :)', 'i like you peoples very much but am very shy pa :)', 's i m watching it in live ', 'cool i ll text you when i m on the way', 'ok i ve sent u da latest version of da project ', 'no da vijay going to talk in jaya tv', 'tmrw im finishing 9 doors', 'how are you holding up ', 'what are your new years plans ', 'goodmorning my grandfather expired so am on leave today ', 'night night see you tomorrow', 'otherwise had part time job na tuition ', 'i see when we finish we have loads of loans to pay', 'well balls time to make calls', 'how much are we getting ', 'i m at home n ready ', 'sos any amount i can get pls ', 'no i ll meet you in the library', 'do you work all this week ', 'you still around looking to pick up later', 'ü go home liao ask dad to pick me up at 6 ', 'you know what hook up means right ', 'okay i ve seen it so i should pick it on friday ', 'mm i had my food da from out', 'i accidentally brought em home in the box', 'mm that time you dont like fun', 'i ve not sent it he can send me ', 'it s 6 to get in is that ok ', 'yes now only saw your message ', 'did you get any gift this year i didnt get anything so bad', 'ok lor msg me b4 u call ', ' am on a train back from northampton so i m afraid not ', 'were trying to find a chinese food place around here', 'tell me again what your address is', 'still i have not checked it da ', 'no da i am happy that we sit together na', 'yes my reg is ciao ', 'ok no prob', 'hey you can pay with salary de only lt gt ', 'black shirt n blue jeans i thk i c ü ', 'ok but i finish at 6 ', 'both i shoot big loads so get ready :)', 'oh ho is this the first time u use these type of words', ' :) :)', 'i think i am disturbing her da', 'why do you ask princess ', 'lol now i m after that hot air balloon ', 'its lt gt k here oh should i send home for sale ', 'i want to be inside you every night ', 'ok ', 'yar lor how u noe u used dat route too ', 'i wish u were here i feel so alone', 'what time i m out until prob 3 or so', 'uhhhhrmm isnt having tb test bad when youre sick', 'but you were together so you should be thinkin about him', 'ok ', 'don know i did t msg him recently ', 's kallis wont play in first two odi :) :)', 'yup ', 'jay wants to work out first how s 4 sound ', 'i m in a meeting call me later at', 'i noe la u wana pei bf oso rite k lor other days den ', 'discussed with your mother ah ', 'hey i almost forgot happy b day babe i love ya ', 'hey we can go jazz power yoga hip hop kb and yogasana', 'how are you i miss you ', 'oh k k but he is not a big hitter anyway good:)', 'they just talking thats it de they wont any other ', 'doing nothing then u not having dinner w us ', 'whatsup there dont u want to sleep', 'horrible gal me in sch doing some stuff how come u got mc ', 'thank you meet you monday', 'at 7 we will go ok na ', ' how s things just a quick question ', 'i m really not up to it still tonight babe', 'siva is in hostel aha ', 'i m at work please call', 'its ok called mom instead have fun', 'whom you waited for yesterday', 'its ok chikku and its my 1 of favourite song :)', 'then u going ikea str aft dat ', 'u dun say so early hor u c already then say ', 'ok lor ', 'i cant pick the phone right now pls send a message', 'sorry in meeting i ll call you later', 'no need to ke qi ü too bored izzit y suddenly thk of this ', 'i m really sorry i lit your hair on fire', ' lt gt w jetton ave if you forgot', 'then we wait 4 u lor no need 2 feel bad lar ', 'thursday night yeah sure thing we ll work it out then', 'ok lor or u wan me go look 4 u ', 'ok lor ü reaching then message me ', 'juz go google n search 4 qet ', 'are you at work right now ', 'i am 6 ft we will be a good combination ', 'ok take ur time n enjoy ur dinner ', 'please leave this topic sorry for telling that ', 'at what time are you coming ', 'awesome that gonna be soon or later tonight ', 'k k when are you going :)', 'pls i wont belive god not only jesus ', 'k tell me anything about you ', 'oh yes i can speak txt 2 u no hmm did u get email ', 'she s fine sends her greetings', 'wat r u doing ', 'do you like shaking your booty on the dance floor ', 'shall i ask one thing if you dont mistake me ', 'ryder unsold now gibbs ', 'i plane to give on this month end ', 'ok lor but buy wat ', 'a bloo bloo bloo i ll miss the first bowl', 'hey gals u all wanna meet 4 dinner at nìte ', 'ok i din get ur msg ', 'india have to take lead :)', 'dad says hurry the hell up', 'erutupalam thandiyachu', 'yes when is the appt again ', 'how come she can get it should b quite diff to guess rite ', 'u should make a fb list', 'hey why dont we just go watch x men and have lunch haha', 'haha yeah 2 oz is kind of a shitload', 'wah lucky man then can save money hee ', 'or i guess lt gt min', 'my uncles in atlanta wish you guys a great semester ', 'you need to get up now ', 'prabha i m soryda realy frm heart i m sory', 'oh k i will come tomorrow', 'is toshiba portege m100 gd ', 'yo any way we could pick something up tonight ', 'you should change your fb to jaykwon thuglyfe falconerf', 'haha i heard that text me when you re around', 'babe i need your advice', 'anything ', 'hows the pain dear y r u smiling ', 'i m in office now da where are you :)', 'it only does simple arithmetic not percentages ', 'okay good no problem and thanx ', 'do have a nice day today i love you so dearly ', 'lol oops sorry have fun ', 'cool text me when you head out', 'left dessert u wan me 2 go suntec look 4 u ', 'u should have made an appointment', 'id have to check but there s only like 1 bowls worth left', 'please sen my kind advice please come here and try :) :) :)', 'if you r home then come down within 5 min', 'aight fuck it i ll get it later', 'wife how she knew the time of murder exactly', 'oh ic i thought you meant mary jane ', 'how are you just checking up on you', 'he remains a bro amongst bros', 'do you like italian food ', 'well i will watch shrek in 3d b ', 'shall i come to get pickle', 'oooh bed ridden ey what are you thinking of ', 'are you ok what happen to behave like this', 'congrats kano whr s the treat maga ', 'how abt making some of the pics bigger ', 'same to u ', 'i am late i will be there at', 'i will once i get home', 'aathi where are you dear ', 'i tot u reach liao he said t shirt ', 'she s good how are you where r u working now', 'oh i asked for fun haha take care ü', 'haha awesome be there in a minute', 'lol no just was busy', 'hahaha use your brain dear', 'if i said anything wrong sorry de :)', 'merry christmas to u too annie ', 'do u hav any frnd by name ashwini in ur college ', 'yes he have good crickiting mind', 'ok me watching tv too ', 'ok k sry i knw 2 siva tats y i askd ', 'you ve always been the brainy one ', 'i knew it u slept v late yest wake up so late ', 'whos this am in class :)', 'are you willing to go for apps class ', 'what time you coming down later ', 'how do you guys go to see movies on your side ', 'hey are you angry with me reply me dr ', 'u sick still can go shopping ', 'speaking of does he have any cash yet ', ' anyway many good evenings to u s', 'yup bathe liao ', 'i thought we were doing a king of the hill thing there ', 'shall i get my pouch ', 'do we have any spare power supplies', 'can u look 4 me in da lib i got stuff havent finish yet ', 'waaaat lololo ok next time then ', 'its good to hear from you', 'ay wana meet on sat ü wkg on sat ', 'probably want to pick up more ', 'have good weekend ', 'cool i am lt gt inches long hope you like them big ', 'sorry i ll call later', 'yo im right by yo work', 'usf i guess might as well take 1 car', 'k so am i how much for an 8th fifty ', 'package all your programs well', 'sorry i ll call later in meeting', 'how come guoyang go n tell her then u told her ', 'i m going for bath will msg you next lt gt min ', 'no its ful of song lyrics ', 'i am literally in bed and have been up for like lt gt hours', 'hey very inconvenient for your sis a not huh ', 'what happened in interview ', 'to day class is there are no class ', 'then u go back urself lor ', 'at bruce b downs amp fletcher now', 'i m not sure if its still available though', 'i m in town now so i ll jus take mrt down later ', 'at 4 let s go to bill millers', 'free any day but i finish at 6 on mon n thurs ', 'bring home some wendy d=D', 's i think he is waste for rr ', 'sorry i ll call later', 'aight you close by or still down around alex s place ', 'yup n her fren lor i m meeting my fren at 730 ', 'sorry i ll call later', 'o guess they both got screwd', 'ya told she was asking wats matter ', 'wewa is 130 iriver 255 all 128 mb ', 'oh ya ya i remember da ', 'yeah do don t stand to close tho you ll catch something ', 'oh k after that placement there ah :)', 'do you hide anythiing or keeping distance from me', 'probably not still going over some stuff here', 'am going to take bath ill place the key in window :)', 'what is your record for one night :)', 'ü give me some time to walk there ', 'i sent lanre fakeye s eckankar details to the mail box', 'is that what time you want me to come ', 'ok but bag again ', 'haha better late than ever any way i could swing by ', 'nothing spl wat abt u and whr ru ', 'i not at home now lei ', 'staff science nus edu sg phyhcmk teaching pc1323', 'cool text me when you re ready', 'i think i ve fixed it can you send a test message ', 'you all ready for big day tomorrow ', 'oh my god i m almost home', 'ill be at yours in about 3 mins but look out for me', 'argh why the fuck is nobody in town _ ', 'then wat r u doing now busy wif work ', 'not much no fights it was a good nite ', 'at home watching tv lor ', 'lol i would but despite these cramps i like being a girl ', 'still work going on it is very small house :)', 'sorry i ll call later', 'i m fine hope you are also', 'what is this hex place you talk of explain ', ' am on my way', 'cps is causing the outages to conserve energy ', 'sounds like something that someone testing me would sayy', 'ugh i don t wanna get out of bed it s so warm ', 'ok ', 'annoying isn t it ', 'i dont can you send it to me plus how s mode ', 'gettin rdy to ship comp', 'hmph go head big baller ', 'already am squatting is the new way of walking', 'shb b ok lor thanx ', 'ok no prob i ll come after lunch then ', 'i have a sore throat it s scratches when i talk', 'delhi and chennai still silent ', 'so wats ur opinion abt him and how abt is character ', 'on ma way to school can you pls send me ashley s number', 'that seems unnecessarily hostile', 'i hav almost reached call i m unable to connect u ', 'i m back lemme know when you re ready', 'i dont thnk its a wrong calling between us', 'if you mean the website yes ', 'check audrey s status right now', 'pathaya enketa maraikara pa ', ' ok i feel like john lennon ;)', 'what s up do you want me to come online ', 'alright if you re sure let me know when you re leaving', 'are you available for soiree on june 3rd ', 'i am taking half day leave bec i am not well', 'ok pa nothing problem :)', 'thanks for this hope you had a good day today', 'blank is blank but wat is blank lol', 'so what do you guys do ', 'it wont b until 2 15 as trying 2 sort house out is that ok ', 'in which place do you want da ', 'prabha i m soryda realy frm heart i m sory', 'honey boo i m missing u ', 'the hair cream has not been shipped ', 'sorry i ll call later', 'there the size of elephant tablets u shove um up ur ass ', 'the new deus ex game comin early next yr', 'hi darlin did youphone me im athome if youwanna chat ', 'not much just some textin how bout you ', 'hai priya are you right what doctor said pa where are you ', 'gam gone after outstanding innings ', 'wow v v impressed have funs shopping ', 'i cant pick the phone right now pls send a message', 'can i m free ', 'in sch but neva mind u eat 1st lor ', 'din i tell u jus now 420', 'babe i lost you will you try rebooting ', 'actually getting ready to leave the house ', 'arr birthday today i wish him to get more oscar :)', 'what happened to our yo date ', 'i m home ', 'i wont so wat s wit the guys', 'me too have a lovely night xxx', 'hey babe my friend had to cancel still up for a visit ', 'anything lar then ü not going home 4 dinner ', 'yes i thought so thanks ', 'sorry i ll call later', 'mm feeling sleepy today itself i shall get that dear', 'mathews or tait or edwards or anderson', 'will you be here for food', 'i have no money 4 steve mate ', 'poor girl can t go one day lmao', 'love you aathi love u lot ', 'gud ni8 dear slp well take care swt dreams muah ', 'do ü noe if ben is going ', 'can you pls send me that company name in saibaba colany', 'aight that ll work thanks', 'r ü going 4 today s meeting ', 'i had askd u a question some hours before its answer', 'oops i ll let you know when my roommate s done', 'i ve reached sch already ', 'ok then i ll let him noe later n ask him call u tmr ', 'i wonder if you ll get this text ', 'then why you not responding', 'gud mrng dear hav a nice day', 'ü come lt 25 n pass to me lar', 'sorry i m not free ', 'alrite', 'until 545 lor ya can go 4 dinner together ', 'i am at a party with alex nichols', 'prepare to be pounded every night ', 'once free call me sir i am waiting for you ', 'sorry i ll call later', 'dont show yourself how far put new pictures up on facebook ', 'cos darren say ü considering mah so i ask ü ', 'want to finally have lunch today ', 'your bill at 3 is 33 65 so thats not bad ', 'where can download clear movies dvd copies ', 'ok lor ', 'ok ', 'will ü b going to esplanade fr home ', 'ugh gotta drive back to sd from la my butt is sore ', 'but i dint slept in afternoon ', 'dear reached railway what happen to you', ' sad puppy noise:(', 'i ve reached home finally ', 'thats cool where should i cum on you or in you :)', 'have you always been saying welp ', 'yes we are chatting too ', 'k then any other special ', 'in that case i guess i ll see you at campus lodge', 'wat s my dear doing sleeping ah ', 'oic then better quickly go bathe n settle down ', '2 celebrate my b day y else ', 'and popping lt gt ibuprofens was no help ', 'no problem how are you doing ', 'k did you call me just now ah ', 'yes i trust u to buy new stuff asap so i can try it out', 'when did you get to the library', 'its ok come to my home it vl nice to meet and v can chat ', 'ok ', 'okay we wait ah', 'crucify is c not s you should have told me earlier ', 'we ll you pay over like lt gt yrs so its not too difficult', 'jus finish blowing my hair u finish dinner already ', 'ma head dey swell oh thanks for making my day', 'why are u up so early ', 'finish liao u ', 'where are you call me ', 'ya very nice be ready on thursday', 'i cant pick the phone right now pls send a message', 'not yet chikku wat abt u ', 'yes how is a pretty lady like you single ', 'what r u cooking me for dinner ', 'k can i pick up another 8th when you re done ', 'i am in hospital da i will return home in evening', 'take some small dose tablet for fever', 'goodmorning today i am late for 2hrs because of back pain ', 'y lei ', 'what u wearing ', 'we have pizza if u want', 'i donno its in your genes or something', 'hi i got the money da :)', 'why didn t u call on your lunch ', 'r u here yet i m wearing blue shirt n black pants ', 'yes but i don t care cause i know its there ', 'ok ', 'lol for real she told my dad i have cancer', 'r u over scratching it ', 'the evo i just had to download flash jealous ', 'just making dinner you ', 'i know she called me', 'you unbelievable faglord', 'right on brah see you later', 'how do you plan to manage that', 'you call him and tell now infront of them call him now ', 'ask g or iouri i ve told the story like ten times already', 'no he didn t spring is coming early yay ', 'should i send you naughty pix :)', 'hi my email address has changed now it is', 'awesome i ll see you in a bit', 'i didnt get anything da', 'yeah i don t see why not', 'its ok i just askd did u knw tht no ', 'msg me when rajini comes ', 'have you laid your airtel line to rest ', 'ok which your another number', 'who are you seeing ', 'they will pick up and drop in car so no problem ', 'tired i haven t slept well the past few nights ', 'enjoy ur life good night', 'send me your id and password', 'dunno lei shd b driving lor cos i go sch 1 hr oni ', 'when where do i pick you up', 'i m leaving my house now ', 'carry on not disturbing both of you', 'we still on for tonight ', 'is ur paper in e morn or aft tmr ', 'sir waiting for your mail ', 'none of that s happening til you get here though', 'so dont use hook up any how', 'wah okie okie muz make use of e unlimited haha ', 'my friends use to call the same ', 'u don t remember that old commercial ', 'i borrow ur bag ok ', 'i am in your office na ', 's 8 min to go for lunch :) :)', 'so do you have samus shoulders yet', 'i m e person who s doing e sms survey ', 'okie ', '85233 free ringtone reply real', 'actually i decided i was too hungry so i haven t left yet v', 'are you going to write ccna exam this week ', 'then ü ask dad to pick ü up lar ü wan 2 stay until 6 meh ', 'hurry home soup is done ', 'sure but make sure he knows we ain t smokin yet', 'yes i have so that s why u texted pshew missing you so much', 'great how is the office today ', 'k k i m also fine when will you complete the course :)', 'how much r ü willing to pay ', 'can u get pic msgs to your phone ', 'yes fine', 'i just got home babe are you still awake ', 'k want us to come by now ', 'i m in a meeting call me later at', 'nah dub but je still buff', 'if u dun drive then how i go 2 sch ', 'hey what how about your project started aha da ', 'no de am seeing in online shop so that i asked ', 'fyi i m at usf now swing by the room whenever', 'huh so late fr dinner ', 'which channel :) :) :) :)', 'see you then we re all christmassy here ', 'yes baby i need to stretch open your pussy ', 'can you plz tell me the ans bslvyl sent via fullonsms com', 'if you r home then come down within 5 min', 'ok lor i m in town now lei ', 'some are lasting as much as 2 hours you might get lucky ', 'k i m leaving soon be there a little after 9', 'love you aathi love u lot ', 'x2 lt gt are you going to get that', 'are you up for the challenge i know i am :)', '7 lor change 2 suntec wat time u coming ', 'draw va i dont think so :)', 'so ü pay first lar then when is da stock comin ', 'am in gobi arts college', 'ill call you evening ill some ideas ', 'what are youdoing later sar xxx', 'dear will call tmorrow pls accomodate ', 'lolnice i went from a fish to water ', 'wot u wanna do then missy ', 'ok lor ', 'all sounds good fingers makes it difficult to type', 'what number do u live at is it 11 ', 'am i the only one who doesn t stalk profiles ', 'yup having my lunch buffet now u eat already ', 'white fudge oreos are in stores', 'ugh hopefully the asus ppl dont randomly do a reformat ', 'aiyo please ü got time meh ', 's fine anytime all the best with it ', 're your call you didn t see my facebook huh ', 'prepare to be pleasured :)', 'get ready to moan and scream :)', 'ok i also wan 2 watch e 9 pm show ', 'okie thanx ', 'small problem in auction punj now asking tiwary:)', 'just normal only here :)', 'good no swimsuit allowed :)', 'got fujitsu ibm hp toshiba got a lot of model how to say ', 'where at were hungry too', 'she doesnt need any test ', 'just got to lt gt ', 'but that s on ebay it might be less elsewhere ', 'u guys never invite me anywhere :(', 'i accidentally deleted the message resend please ', 'ü comin to fetch us oredi ', 'nope juz off from work ', 'nokia phone is lovly ', 'thinking of u x;)', 'i m in solihull do you want anything ', 'thankyou so much for the call i appreciate your care ', ' lt gt in mca but not conform ', 'dear good morning now only i am up', 'im done just studyn in library', 'when are you guys leaving ', 'yes it s all innocent fun o :)', 'this is my number by vivek ', 'dude how do you like the buff wind ', 'yeah we got one lined up for us', 'thats cool i want to please you ', 'hey are we going for the lo lesson or gym ', 'sry da jst nw only i came to home ', 'hey i will be late ah meet you at 945 ', 'when can ü come out ', 'anything lor is she coming ', 'gosh that what a pain spose i better come then ', 'what you doing how are you ', 'he will you guys close ', 'we ll join the lt gt bus', 'yeah that s the impression i got', 'haiyoh maybe your hamster was jealous of million', 'alright we re hooked up where you guys at', 'almost there see u in a sec', 'i ll meet you in the lobby', 'we will meet soon princess ttyl ', 'in work now going have in few min ', 'water logging in desert geoenvironmental implications ', 'your daily text from me a favour this time', 'am only searching for good dual sim mobile pa ', 'ok ', 'dhoni have luck to win some big title so we will win :)', 'when i have stuff to sell i ll tell you', 'sorry i ll call later ok bye', 'bognor it is should be splendid at this time of year ', 'you have 1 new message please call 08718738034 ', 'i send the print outs da ', 'cuz ibored and don wanna study', 'k i m ready lt gt ', 'how much would it cost to hire a hitman', 'have you seen who s back at holby ', 'sorry i can t help you on this ', 'i ll be at mu in like lt gt seconds', 'just buy a pizza meat lovers or supreme u get to pick ', 'i m not coming home 4 dinner ', 'tick tick tick babe', 'great so what attracts you to the brothas ', 'i am not having her number sir', 'yeah confirmed for you staying at that weekend', 'i call you later don t have network if urgnt sms me ', 'i m hungry buy smth home ', 'yeah why not is the gang all ready', 'not a drop in the tank', 'if you re thinking of lifting me one then no ', 'should i be stalking u ', 'okay same with me well thanks for the clarification', 'hmmm how many players selected :)', 'hey elaine is today s meeting still on ', 'webpage s not available ', 'so that means you still think of teju', 'cool i ll text you in a few', 'hope you are feeling great pls fill me in abiola', 'okie', 'mum not going robinson already ', 'can you open the door ', 'sorry da thangam it s my mistake ', ' error ', 'playin space poker u ', 'okie ', 'excellent i ll see what riley s plans are', 'yeah probably i still gotta check out with leo', 'then ur physics get a ', 'cheers for the card is it that time of year already ', 'sounds good keep me posted', 'ok', 'you re right i have now that i think about it', 'sorry i can t help you on this ', 'that s fine i ll bitch at you about it later then', 'we not leaving yet ok lor then we go elsewhere n eat u thk ', 'k i ll head out in a few mins see you there', 'im gonna miss u so much', 'i m on the bus love you', 'i am not sure about night menu i know only about noon menu', 'no just send to you bec you in temple na ', 'wat time do u wan 2 meet me later ', 'hope you are having a good week just checking in', 'lemme know when you re here', 'are you free now can i call now ', 'what time u wrkin ', 'ok ok ok then whats ur todays plan', 'if i die i want u to have all my stuffs ', 'sent me ur email id soon', 'hope you are having a great day ', 'so what about you what do you remember', 'ok i msg u b4 i leave my house ', 'how much did ur hdd casing cost ', 'sleeping nt feeling well', 'all e best 4 ur exam later ', 'i don t know but i m raping dudes at poker', 'just arrived see you in a couple days lt 3', 'ok so april cant wait', 'come aftr lt decimal gt now i m cleaning the house;D', 'i know a few people i can hit up and fuck to the yes', 'i cant pick the phone right now pls send a message', 'i ve got it down to a tea not sure which flavour', 'i will come to ur home now', 'i need to come home and give you some good lovin ', 'thats cool i liked your photos you are very sexy ', 'every monday nxt week vl be completing ', 'convey my regards to him', 'i am waiting for your call sir ', 'ringtoneking 84484', 'my birthday is on feb lt gt da ', 'i want snow it s just freezing and windy ', 'found it enc lt gt where you at ', 'i had it already sabarish asked me to go ', 'do i i thought i put it back in the box', 'wat ü doing now ', 'how come u got nothing to do ', 'no pic please re send ', 'no b4 thursday', 'they can try they can get lost in fact tee hee', 'thank u it better work out cause i will feel used otherwise', 'as usual u can call me ard 10 smth ', 'aiyah ok wat as long as got improve can already wat ', 'nan sonathaya soladha why boss ', 'yar i tot u knew dis would happen long ago already ', 'are you this much buzy', 'yeah that s what i was thinking', 'ranjith cal drpd deeraj and deepak 5min hold', 'ok i shall talk to him', 'i call you later don t have network if urgnt sms me ', 'ok ok ok then whats ur todays plan', 'get ready to put on your excellent sub face :)', 'i m also came to room ', 'actually nvm got hella cash we still on for lt gt ish ', 'k can that happen tonight ', ' please charge my mobile when you get up in morning ', 'u so lousy run already come back then half dead hee ', 'ok i ll do you right later ', 'happy birthday may all ur dreams come true ', 'thank you do you generally date the brothas ', 'ü thk of wat to eat tonight ', 'i just cooked a rather nice salmon a la you', 'sorry me going home first daddy come fetch ü later ', 'audrie lousy autocorrect', 'sorry for the delay yes masters', 'then why no one talking to me', 'is avatar supposed to have subtoitles', ' lt gt mins but i had to stop somewhere first ', 'aight we can pick some up you open before tonight ', 'unni thank you dear for the recharge rakhesh', 'u still havent got urself a jacket ah ', 'i cant pick the phone right now pls send a message', 'nope meanwhile she talk say make i greet you ', 'anything lar ', 'what your plan for pongal ', 'you are a big chic common declare', 'i love your ass do you enjoy doggy style :)', 'it is a good thing i m now getting the connection to bw', 'i donno if they are scorable', 'dear how you are you ok ', 'k k good study well :) :) :)', 'me i dont know again oh', 'quite lor but dun tell him wait he get complacent ', 'yes that will be fine love you be safe ', 'i know you are can you pls open the back ', 'where r e meeting tmr ', 'prabha i m soryda realy frm heart i m sory', 'yeah probably earlier than that', 'host based idps for linux systems ', 'one small prestige problem now ', 'wherre s my boytoy :(', 'kay since we are out already', 'say thanks2 ', 'ü wait 4 me in sch i finish ard 5 ', 'why de you looking good only :)', 'i want to go to perumbavoor', 'oh really did you make it on air what s your talent ', 'oh k k where did you take test ', 'have a nice day my dear ', 'ok lor ', 'that s cool i ll come by like lt gt ish', 'waiting for your call ', 'pleassssssseeeeee tel me v avent done sportsx', 'ic there are a lotta childporn cars then ', 'then any special there ', 'hm good morning headache anyone :)', 'alright we ll bring it to you see you in like lt gt mins', 'neshanth tel me who r u ', 'adult 18 content your video will be with you shortly', 'it s wylie you in tampa or sarasota ', 'don know wait i will check it ', 'yup no need i ll jus wait 4 e rain 2 stop ', 'no no i will check all rooms befor activities', 'ü called dad oredi ', 'no no i will check all rooms befor activities', 'dude just saw a parked car with its sunroof popped up sux', ' lt gt that s all guess that s easy enough', 'received understood n acted upon ', 'nobody can decide where to eat and dad wants chinese', 'at home also ', 'call me when you get the chance plz lt 3', 'where u been hiding stranger ', 'hey you got any mail ', 'i m going out to buy mum s present ar ', 'i can make lasagna for you vodka ', 'oh howda gud gud mathe en samachara chikku :)', 'you said not now no problem when you can let me know ', 'haha that was the first person i was gonna ask', 'yes but i dont care i need you bad princess ', 'what should i eat fo lunch senor', 'lmao where s your fish memory when i need it ', 'hey anyway i have to :)', 'u wan 2 haf lunch i m in da canteen now ', 'were somewhere on fredericksburg', 'k give back my thanks ', 'i ll get there tomorrow and send it to you', 'hi finally i completed the course :) :)', 'yes da any plm at ur office', 'got it seventeen pounds for seven hundred ml hope ok ', 'now got tv 2 watch meh u no work today ', 'i can t i don t have her number ', 'a guy who gets used but is too dumb to realize it ', 'i emailed yifeng my part oredi can ü get it fr him ', 'if i was i wasn t paying attention', '1 in cbe 2 in chennai ', 'howz that persons story', 'what today sunday sunday is holiday so no work ', 'it ll be tough but i ll do what i have to', 'okie', 'kallis is ready for bat in 2nd innings', 'dunno he jus say go lido same time 930 ', 'well im computerless time to make some oreo truffles', 'ok lor ', 'i am on the way to tirupur ', 'that depends how would you like to be treated :)', 'uncle abbey happy new year abiola', 'oh as usual vijay film or its different :)', 'ok i juz receive ', 'me fine absolutly fine', 'that day you asked about anand number why :)', 'hi mom we might be back later than lt gt ', 'also remember the beads don t come off ever ', 'wat time liao where still got ', 'well done and luv ya all', 'gud ni8 swt drms take care', 'wot about on wed nite i am 3 then but only til 9 ', 'no i was trying it all weekend v', 'a boy was late 2 home his father power of frndship ', 'just dropped em off omw back now', 'apart from the one i told you about yesterday ', 'u goin out 2nite ', 'i think just yourself thanks and see you tomo', 'shall i send that exe to your mail id ', 'no no i will check all rooms befor activities', 'y cant u try new invention to fly i m not joking ', 'am in film ill call you later ', 'ew are you one of them ', 'can a not ', 'hi cts employee how are you :)', 'i m good have you registered to vote ', 'ok lor then we go tog lor ', 'jos ask if u wana meet up ', 'sorry i ll call later', 'ard 530 lor i ok then message ü lor ', 'there re some people by mu i m at the table by lambda', 'sorry i ll call later', 'r u in this continent ', 'it s reassuring in this crazy world ', 'thanx a lot 4 ur help ', 'yesterday its with me only now am going home ', 'haha okay today weekend leh ', 'yar but they say got some error ', 'i have many dependents', 'are you planning to come chennai ', 'oh yeah and my diet just flew out the window', 'wait i will msg after lt gt min ', 'it should take about lt gt min', 'you can jot down things you want to remember later ', 'am i that much dirty fellow ', 'easy mate guess the quick drink was bit ambitious ', 'aight will do thanks again for comin out', 'cos daddy arranging time c wat time fetch ü mah ', 'ü dun need to pick ur gf ', 'call me da i am waiting for your call ', 'arun can u transfr me d amt', 'yup ok ', 'why you keeping me away like this', 'are you still playing with gautham ', 'sorry i ll call later', 'huh y lei ', 'love you aathi love u lot ', 'i sent you lt gt bucks', 'babe i lost you :(', 'howz that persons story', 'send me the new number', 'see you there ', 'k k i m also fine when will you complete the course :)', 'wat uniform in where get ', 'money i have won wining number 946 wot do i do next', 'on the road so cant txt', 'ok lor thanx ü in school ', 'k i might come by tonight then if my class lets out early', 'yo you around just got my car back', 'already one guy loving you ', 'hui xin is in da lib ', 'what s ur pin ', 'i only haf msn it s yijue hotmail com', 'got smaller capacity one quite ex ', 'we are both fine thanks', 'by the way rencontre is to meet again mountains dont ', '3 pa but not selected ', 'i dun believe u i thk u told him ', 'we confirm eating at esplanade ', 'you have 1 new voicemail please call 08719181513 ', 'my no in luton 0125698789 ring me if ur around h ', 'thanx but my birthday is over already ', 'good morning my dear have a great amp successful day ', 'where to get those ', 'yeah but which is worse for i', 'ard 4 lor ', 'senthil group company apnt 5pm ', 'we are okay going to sleep now later', 'u call me alter at 11 ok ', 'oh great i ll disturb him more so that we can talk ', 'home so we can always chat', 'yay finally lol i missed our cinema trip last week :(', 'wat s da model num of ur phone ', 'great have a safe trip dont panic surrender all ', 'i m home doc gave me pain meds says everything is fine ', 'ok ', 'if you ask her or she say any please message ', 'i need coz i never go before', 'thank you baby i cant wait to taste the real thing ', 'good good job i like entrepreneurs', 'yup no more already thanx 4 printing n handing it up ', 'you call him now ok i said call him', 'ok omw now you at castor ', 'or ü go buy wif him then i meet ü later can ', 'this pay is lt decimal gt lakhs ;D :)', 'are you comingdown later ', 'i need details about that online job ', 'aight well keep me informed', 'oh then your phone phoned me but it disconnected', 'dear where you call me', 'i av a new number wil u only use this one ta ', 'ok i asked for money how far', 'me sef dey laugh you meanwhile how s my darling anjie ', 'as usual iam fine happy amp doing well :)', 'aiyar sorry lor forgot 2 tell u ', 'yeah probably here for a while', 's i will take mokka players only :)', 'missing you too pray inshah allah', 'really good dhanush rocks once again :) :)', ' yeah lol luckily i didn t have a starring role like you :)', 'it s ok i wun b angry msg u aft i come home tonight ', 'i am going to sleep i am tired of travel ', 'thanx 4 e brownie it s v nice ', 'good morning pookie pie lol hope i didn t wake u up', 'just sleeping and surfing', 'went to ganesh dress shop', 'was the farm open ', 'sorry got a late start we re on the way', 'we don call like lt gt times oh no give us hypertension oh ', 'ok sweet dreams ']\n"
     ]
    }
   ],
   "source": [
    "print(list(texts.text[texts.length < 60].index))\n",
    "print(list(texts.text[texts.length < 60]))"
   ]
  },
  {
   "cell_type": "code",
   "execution_count": 16,
   "metadata": {},
   "outputs": [
    {
     "name": "stdout",
     "output_type": "stream",
     "text": [
      "CPU times: user 82.4 ms, sys: 2.53 ms, total: 85 ms\n",
      "Wall time: 83.6 ms\n"
     ]
    },
    {
     "data": {
      "text/plain": [
       "array([<matplotlib.axes._subplots.AxesSubplot object at 0x1106cc400>,\n",
       "       <matplotlib.axes._subplots.AxesSubplot object at 0x1116c8bb0>],\n",
       "      dtype=object)"
      ]
     },
     "execution_count": 16,
     "metadata": {},
     "output_type": "execute_result"
    },
    {
     "data": {
      "image/png": "[encoded data removed]",
      "text/plain": [
       "<Figure size 432x288 with 2 Axes>"
      ]
     },
     "metadata": {
      "needs_background": "light"
     },
     "output_type": "display_data"
    }
   ],
   "source": [
    "%%time\n",
    "texts.hist(column='length', by='category', bins=50)"
   ]
  },
  {
   "cell_type": "code",
   "execution_count": 17,
   "metadata": {},
   "outputs": [],
   "source": [
    "def split_into_tokens(text):\n",
    "    text = str(text) # convert bytes into proper unicode\n",
    "    return TextBlob(text).words"
   ]
  },
  {
   "cell_type": "code",
   "execution_count": 18,
   "metadata": {},
   "outputs": [
    {
     "data": {
      "text/plain": [
       "1297    sure i am driving but will reach my destinatio...\n",
       "3173    do u still have plumbers tape and a wrench we ...\n",
       "276                                                thanx \n",
       "3107    i had been hoping i would not have to send you...\n",
       "4593    right it wasnt you who phoned it was someone w...\n",
       "Name: text, dtype: object"
      ]
     },
     "execution_count": 18,
     "metadata": {},
     "output_type": "execute_result"
    }
   ],
   "source": [
    "texts.text.head()"
   ]
  },
  {
   "cell_type": "code",
   "execution_count": 19,
   "metadata": {},
   "outputs": [
    {
     "data": {
      "text/plain": [
       "1297    [sure, i, am, driving, but, will, reach, my, d...\n",
       "3173    [do, u, still, have, plumbers, tape, and, a, w...\n",
       "276                                               [thanx]\n",
       "3107    [i, had, been, hoping, i, would, not, have, to...\n",
       "4593    [right, it, wasnt, you, who, phoned, it, was, ...\n",
       "Name: text, dtype: object"
      ]
     },
     "execution_count": 19,
     "metadata": {},
     "output_type": "execute_result"
    }
   ],
   "source": [
    "texts.text.head().apply(split_into_tokens)"
   ]
  },
  {
   "cell_type": "code",
   "execution_count": 20,
   "metadata": {},
   "outputs": [
    {
     "data": {
      "text/plain": [
       "[('hello', 'JJ'),\n",
       " ('world', 'NN'),\n",
       " ('how', 'WRB'),\n",
       " ('is', 'VBZ'),\n",
       " ('it', 'PRP'),\n",
       " ('going', 'VBG')]"
      ]
     },
     "execution_count": 20,
     "metadata": {},
     "output_type": "execute_result"
    }
   ],
   "source": [
    "TextBlob(\"hello world, how is it going?\").tags  # list of (word, POS) pairs"
   ]
  },
  {
   "cell_type": "code",
   "execution_count": 21,
   "metadata": {},
   "outputs": [
    {
     "name": "stderr",
     "output_type": "stream",
     "text": [
      "[nltk_data] Downloading package stopwords to\n",
      "[nltk_data]     /Users/coreyyesavage/nltk_data...\n",
      "[nltk_data]   Package stopwords is already up-to-date!\n"
     ]
    },
    {
     "data": {
      "text/plain": [
       "True"
      ]
     },
     "execution_count": 21,
     "metadata": {},
     "output_type": "execute_result"
    }
   ],
   "source": [
    "import nltk\n",
    "nltk.download('stopwords')"
   ]
  },
  {
   "cell_type": "code",
   "execution_count": 22,
   "metadata": {},
   "outputs": [],
   "source": [
    "from nltk.corpus import stopwords\n",
    "\n",
    "stop = stopwords.words('english')\n",
    "stop = stop + [u'a',u'b',u'c',u'd',u'e',u'f',u'g',u'h',u'i',u'j',u'k',u'l',u'm',u'n',u'o',u'p',u'q',u'r',u's',u't',u'v',u'w',u'x',u'y',u'z']"
   ]
  },
  {
   "cell_type": "code",
   "execution_count": 23,
   "metadata": {},
   "outputs": [
    {
     "data": {
      "text/plain": [
       "1297            [sure, driving, reach, destination, soon]\n",
       "3173     [u, still, plumber, tape, wrench, could, borrow]\n",
       "276                                               [thanx]\n",
       "3107    [hoping, would, send, message, rent, due, dont...\n",
       "4593        [right, wasnt, phoned, someone, number, like]\n",
       "Name: text, dtype: object"
      ]
     },
     "execution_count": 23,
     "metadata": {},
     "output_type": "execute_result"
    }
   ],
   "source": [
    "def split_into_lemmas(text):\n",
    "    text= str(text).lower()\n",
    "    words = TextBlob(text).words\n",
    "    # for each word, take its \"base form\" = lemma \n",
    "    return [word.lemma for word in words if word not in stop]\n",
    "\n",
    "texts.text.head().apply(split_into_lemmas)"
   ]
  },
  {
   "cell_type": "code",
   "execution_count": 24,
   "metadata": {},
   "outputs": [
    {
     "name": "stdout",
     "output_type": "stream",
     "text": [
      "8066\n",
      "CPU times: user 1.34 s, sys: 3.51 ms, total: 1.34 s\n",
      "Wall time: 1.34 s\n"
     ]
    }
   ],
   "source": [
    "%%time\n",
    "bow_transformer = CountVectorizer(analyzer=split_into_lemmas).fit(texts['text'])\n",
    "print(len(bow_transformer.vocabulary_))"
   ]
  },
  {
   "cell_type": "code",
   "execution_count": 25,
   "metadata": {},
   "outputs": [
    {
     "name": "stdout",
     "output_type": "stream",
     "text": [
      "you 07801543489 are guaranteed the latests nokia phone a 40gb ipod mp3 player or a 500 prize txt word collect to no 83355 tc llc ny usa 150p mt msgrcvd18 \n"
     ]
    }
   ],
   "source": [
    "text4 = texts['text'][1466]\n",
    "print(text4)"
   ]
  },
  {
   "cell_type": "code",
   "execution_count": 26,
   "metadata": {},
   "outputs": [
    {
     "name": "stdout",
     "output_type": "stream",
     "text": [
      "sparse matrix shape: (5572, 8066)\n",
      "number of non-zeros: 49461\n",
      "sparsity: 0.11%\n",
      "CPU times: user 1.32 s, sys: 2.46 ms, total: 1.32 s\n",
      "Wall time: 1.32 s\n"
     ]
    }
   ],
   "source": [
    "%%time\n",
    "texts_bow = bow_transformer.transform(texts['text'])\n",
    "print('sparse matrix shape:', texts_bow.shape)\n",
    "print('number of non-zeros:', texts_bow.nnz)\n",
    "print('sparsity: %.2f%%' % (100.0 * texts_bow.nnz / (texts_bow.shape[0] * texts_bow.shape[1])))"
   ]
  },
  {
   "cell_type": "code",
   "execution_count": 27,
   "metadata": {},
   "outputs": [
    {
     "name": "stdout",
     "output_type": "stream",
     "text": [
      "(4400, 8066)\n",
      "(1172, 8066)\n"
     ]
    }
   ],
   "source": [
    "texts_bow_train = texts_bow[:4400]\n",
    "texts_bow_test = texts_bow[4400:]\n",
    "texts_category_train = texts['category'][:4400]\n",
    "texts_category_test = texts['category'][4400:]\n",
    "\n",
    "print(texts_bow_train.shape)\n",
    "print(texts_bow_test.shape)"
   ]
  },
  {
   "cell_type": "code",
   "execution_count": 28,
   "metadata": {},
   "outputs": [
    {
     "name": "stdout",
     "output_type": "stream",
     "text": [
      "CPU times: user 2.77 ms, sys: 1.35 ms, total: 4.12 ms\n",
      "Wall time: 2.98 ms\n"
     ]
    }
   ],
   "source": [
    "%time text_category = MultinomialNB().fit(texts_bow_train, texts_category_train)"
   ]
  },
  {
   "cell_type": "code",
   "execution_count": 29,
   "metadata": {},
   "outputs": [
    {
     "name": "stdout",
     "output_type": "stream",
     "text": [
      "i hope you arnt pissed off but id would really like to see you tomorrow love me xxxxxxxxxxxxxx\n"
     ]
    }
   ],
   "source": [
    "texts4 = texts['text'][3500]\n",
    "print(texts4)"
   ]
  },
  {
   "cell_type": "code",
   "execution_count": 30,
   "metadata": {},
   "outputs": [
    {
     "name": "stdout",
     "output_type": "stream",
     "text": [
      "  (0, 1191)\t1\n",
      "  (0, 3696)\t1\n",
      "  (0, 3797)\t1\n",
      "  (0, 4339)\t1\n",
      "  (0, 4450)\t1\n",
      "  (0, 5473)\t1\n",
      "  (0, 5881)\t1\n",
      "  (0, 6265)\t1\n",
      "  (0, 7256)\t1\n",
      "  (0, 7921)\t1\n",
      "  (0, 7977)\t1\n"
     ]
    }
   ],
   "source": [
    "bow4 = bow_transformer.transform([texts4])\n",
    "print(bow4)"
   ]
  },
  {
   "cell_type": "code",
   "execution_count": 31,
   "metadata": {},
   "outputs": [
    {
     "name": "stdout",
     "output_type": "stream",
     "text": [
      "predicted: 0\n",
      "expected: 0\n"
     ]
    }
   ],
   "source": [
    "print('predicted:', text_category.predict(bow4)[0])\n",
    "print('expected:', texts.category[1789])"
   ]
  },
  {
   "cell_type": "code",
   "execution_count": 32,
   "metadata": {},
   "outputs": [
    {
     "name": "stdout",
     "output_type": "stream",
     "text": [
      "[0 0 0 ... 0 0 0]\n"
     ]
    }
   ],
   "source": [
    "predictions = text_category.predict(texts_bow_test)\n",
    "print(predictions)"
   ]
  },
  {
   "cell_type": "code",
   "execution_count": 63,
   "metadata": {},
   "outputs": [
    {
     "name": "stdout",
     "output_type": "stream",
     "text": [
      "sparse matrix shape: (5572, 8066)\n",
      "number of non-zeros: 49461\n",
      "sparsity: 0.11%\n"
     ]
    }
   ],
   "source": [
    "texts_bow = bow_transformer.transform(texts['text'])\n",
    "print ('sparse matrix shape:', texts_bow.shape)\n",
    "print ('number of non-zeros:', texts_bow.nnz)\n",
    "print ('sparsity: %.2f%%' % (100.0 * texts_bow.nnz / (texts_bow.shape[0] * texts_bow.shape[1])))"
   ]
  },
  {
   "cell_type": "code",
   "execution_count": 68,
   "metadata": {},
   "outputs": [
    {
     "name": "stdout",
     "output_type": "stream",
     "text": [
      "  (0, 7977)\t0.43276069333087636\n",
      "  (0, 7921)\t0.26051241732896496\n",
      "  (0, 7256)\t0.24780148398082374\n",
      "  (0, 6265)\t0.22076552713370398\n",
      "  (0, 5881)\t0.2516793654610172\n",
      "  (0, 5473)\t0.3795355042791126\n",
      "  (0, 4450)\t0.21316687719808403\n",
      "  (0, 4339)\t0.20225201879158008\n",
      "  (0, 3797)\t0.31237279345466534\n",
      "  (0, 3696)\t0.2368843406848002\n",
      "  (0, 1191)\t0.43276069333087636\n"
     ]
    }
   ],
   "source": [
    "tfidf_transformer = TfidfTransformer().fit(texts_bow)\n",
    "tfidf4 = tfidf_transformer.transform(bow4)\n",
    "print (tfidf4)"
   ]
  },
  {
   "cell_type": "code",
   "execution_count": 33,
   "metadata": {},
   "outputs": [
    {
     "name": "stdout",
     "output_type": "stream",
     "text": [
      "accuracy 0.9872013651877133\n",
      "confusion matrix\n",
      " [[1012    8]\n",
      " [   7  145]]\n",
      "(row=expected, col=predicted)\n"
     ]
    }
   ],
   "source": [
    "print('accuracy', accuracy_score(texts_category_test, predictions))\n",
    "print('confusion matrix\\n', confusion_matrix(texts_category_test, predictions))\n",
    "print('(row=expected, col=predicted)')"
   ]
  },
  {
   "cell_type": "code",
   "execution_count": 70,
   "metadata": {},
   "outputs": [
    {
     "name": "stdout",
     "output_type": "stream",
     "text": [
      "(5572, 8066)\n"
     ]
    }
   ],
   "source": [
    "texts_tfidf = tfidf_transformer.transform(texts_bow)\n",
    "print (texts_tfidf.shape)"
   ]
  },
  {
   "cell_type": "code",
   "execution_count": 81,
   "metadata": {},
   "outputs": [
    {
     "name": "stdout",
     "output_type": "stream",
     "text": [
      "              precision    recall  f1-score   support\n",
      "\n",
      "           0       0.99      0.99      0.99      1020\n",
      "           1       0.95      0.95      0.95       152\n",
      "\n",
      "    accuracy                           0.99      1172\n",
      "   macro avg       0.97      0.97      0.97      1172\n",
      "weighted avg       0.99      0.99      0.99      1172\n",
      "\n"
     ]
    }
   ],
   "source": [
    "print(classification_report(texts_category_test, predictions))"
   ]
  },
  {
   "cell_type": "code",
   "execution_count": 35,
   "metadata": {},
   "outputs": [],
   "source": [
    "from keras.models import Sequential\n",
    "from keras.layers import Dense\n",
    "from keras.regularizers import l2, l1\n",
    "from keras.optimizers import SGD\n",
    "\n",
    "# Stochastic Logistic Regression\n",
    "model = Sequential()\n",
    "\n",
    "# validation loss \n",
    "model.add(Dense(units=1, input_shape=[1], \n",
    "                activation='sigmoid', kernel_regularizer=l1(0.01)))\n",
    "\n",
    "# Compile model\n",
    "sgd = SGD(lr=0.1)\n",
    "model.compile(loss='mean_squared_error', optimizer=sgd)"
   ]
  },
  {
   "cell_type": "code",
   "execution_count": 36,
   "metadata": {},
   "outputs": [
    {
     "name": "stdout",
     "output_type": "stream",
     "text": [
      "Model: \"sequential\"\n",
      "_________________________________________________________________\n",
      "Layer (type)                 Output Shape              Param #   \n",
      "=================================================================\n",
      "dense (Dense)                (None, 1)                 2         \n",
      "=================================================================\n",
      "Total params: 2\n",
      "Trainable params: 2\n",
      "Non-trainable params: 0\n",
      "_________________________________________________________________\n"
     ]
    }
   ],
   "source": [
    "model.summary()"
   ]
  },
  {
   "cell_type": "code",
   "execution_count": 37,
   "metadata": {},
   "outputs": [],
   "source": [
    "X = np.array(texts['category']).reshape(-1,1)\n",
    "y = np.array(texts['text'])\n"
   ]
  },
  {
   "cell_type": "code",
   "execution_count": 38,
   "metadata": {},
   "outputs": [],
   "source": [
    "from sklearn.model_selection import train_test_split\n",
    "X_train, X_test, y_train, y_test = train_test_split(\n",
    "    X, y, test_size=0.2, random_state=5)"
   ]
  },
  {
   "cell_type": "code",
   "execution_count": 39,
   "metadata": {},
   "outputs": [],
   "source": [
    "stdscaler = preprocessing.StandardScaler().fit(X_train)\n",
    "X_scaled  = stdscaler.transform(X)\n",
    "X_train_scaled = stdscaler.transform(X_train)\n",
    "X_test_scaled  = stdscaler.transform(X_test)"
   ]
  },
  {
   "cell_type": "code",
   "execution_count": 40,
   "metadata": {},
   "outputs": [
    {
     "data": {
      "text/html": [
       "<div>\n",
       "<style scoped>\n",
       "    .dataframe tbody tr th:only-of-type {\n",
       "        vertical-align: middle;\n",
       "    }\n",
       "\n",
       "    .dataframe tbody tr th {\n",
       "        vertical-align: top;\n",
       "    }\n",
       "\n",
       "    .dataframe thead th {\n",
       "        text-align: right;\n",
       "    }\n",
       "</style>\n",
       "<table border=\"1\" class=\"dataframe\">\n",
       "  <thead>\n",
       "    <tr style=\"text-align: right;\">\n",
       "      <th></th>\n",
       "      <th>category</th>\n",
       "      <th>text</th>\n",
       "      <th>length</th>\n",
       "    </tr>\n",
       "  </thead>\n",
       "  <tbody>\n",
       "    <tr>\n",
       "      <th>1297</th>\n",
       "      <td>0</td>\n",
       "      <td>sure i am driving but will reach my destinatio...</td>\n",
       "      <td>53</td>\n",
       "    </tr>\n",
       "    <tr>\n",
       "      <th>3173</th>\n",
       "      <td>0</td>\n",
       "      <td>do u still have plumbers tape and a wrench we ...</td>\n",
       "      <td>59</td>\n",
       "    </tr>\n",
       "    <tr>\n",
       "      <th>276</th>\n",
       "      <td>0</td>\n",
       "      <td>thanx</td>\n",
       "      <td>6</td>\n",
       "    </tr>\n",
       "    <tr>\n",
       "      <th>3107</th>\n",
       "      <td>0</td>\n",
       "      <td>i had been hoping i would not have to send you...</td>\n",
       "      <td>285</td>\n",
       "    </tr>\n",
       "    <tr>\n",
       "      <th>4593</th>\n",
       "      <td>0</td>\n",
       "      <td>right it wasnt you who phoned it was someone w...</td>\n",
       "      <td>70</td>\n",
       "    </tr>\n",
       "  </tbody>\n",
       "</table>\n",
       "</div>"
      ],
      "text/plain": [
       "      category                                               text  length\n",
       "1297         0  sure i am driving but will reach my destinatio...      53\n",
       "3173         0  do u still have plumbers tape and a wrench we ...      59\n",
       "276          0                                             thanx        6\n",
       "3107         0  i had been hoping i would not have to send you...     285\n",
       "4593         0  right it wasnt you who phoned it was someone w...      70"
      ]
     },
     "execution_count": 40,
     "metadata": {},
     "output_type": "execute_result"
    }
   ],
   "source": [
    "texts.head()"
   ]
  },
  {
   "cell_type": "code",
   "execution_count": 41,
   "metadata": {},
   "outputs": [
    {
     "data": {
      "text/plain": [
       "array([1.])"
      ]
     },
     "execution_count": 41,
     "metadata": {},
     "output_type": "execute_result"
    }
   ],
   "source": [
    "from sklearn.decomposition import PCA\n",
    "\n",
    "pca = PCA()\n",
    "X_train_pca = pca.fit_transform(X_train)\n",
    "pca.explained_variance_ratio_"
   ]
  },
  {
   "cell_type": "code",
   "execution_count": 42,
   "metadata": {},
   "outputs": [],
   "source": [
    "from sklearn.feature_extraction.text import CountVectorizer\n",
    "vect = CountVectorizer()"
   ]
  },
  {
   "cell_type": "code",
   "execution_count": 43,
   "metadata": {},
   "outputs": [],
   "source": [
    "from sklearn.model_selection import train_test_split"
   ]
  },
  {
   "cell_type": "code",
   "execution_count": 44,
   "metadata": {},
   "outputs": [],
   "source": [
    "X_train,X_test,y_train,y_test = train_test_split(texts[\"text\"],texts[\"category\"], test_size = 0.2, random_state = 10)"
   ]
  },
  {
   "cell_type": "code",
   "execution_count": 45,
   "metadata": {},
   "outputs": [
    {
     "data": {
      "text/plain": [
       "CountVectorizer()"
      ]
     },
     "execution_count": 45,
     "metadata": {},
     "output_type": "execute_result"
    }
   ],
   "source": [
    "vect.fit(X_train)"
   ]
  },
  {
   "cell_type": "code",
   "execution_count": 46,
   "metadata": {},
   "outputs": [
    {
     "data": {
      "text/plain": [
       "scipy.sparse.csr.csr_matrix"
      ]
     },
     "execution_count": 46,
     "metadata": {},
     "output_type": "execute_result"
    }
   ],
   "source": [
    "X_train_texts = vect.transform(X_train)\n",
    "X_test_texts = vect.transform(X_test)\n",
    "type(X_train_texts)"
   ]
  },
  {
   "cell_type": "code",
   "execution_count": 47,
   "metadata": {},
   "outputs": [
    {
     "data": {
      "text/plain": [
       "LogisticRegression()"
      ]
     },
     "execution_count": 47,
     "metadata": {},
     "output_type": "execute_result"
    }
   ],
   "source": [
    "from sklearn.linear_model import LogisticRegression\n",
    "model = LogisticRegression()\n",
    "model.fit(X_train_texts,y_train)"
   ]
  },
  {
   "cell_type": "code",
   "execution_count": 48,
   "metadata": {},
   "outputs": [],
   "source": [
    "prediction = dict()\n",
    "\n",
    "prediction[\"Logistic\"] = model.predict(X_test_texts)"
   ]
  },
  {
   "cell_type": "code",
   "execution_count": 49,
   "metadata": {},
   "outputs": [],
   "source": [
    "from sklearn.metrics import accuracy_score,confusion_matrix,classification_report"
   ]
  },
  {
   "cell_type": "code",
   "execution_count": 50,
   "metadata": {},
   "outputs": [
    {
     "data": {
      "text/plain": [
       "0.9856502242152466"
      ]
     },
     "execution_count": 50,
     "metadata": {},
     "output_type": "execute_result"
    }
   ],
   "source": [
    "accuracy_score(y_test,prediction[\"Logistic\"])"
   ]
  },
  {
   "cell_type": "code",
   "execution_count": 51,
   "metadata": {},
   "outputs": [
    {
     "name": "stdout",
     "output_type": "stream",
     "text": [
      "              precision    recall  f1-score   support\n",
      "\n",
      "           0       0.98      1.00      0.99       977\n",
      "           1       0.99      0.89      0.94       138\n",
      "\n",
      "    accuracy                           0.99      1115\n",
      "   macro avg       0.99      0.95      0.97      1115\n",
      "weighted avg       0.99      0.99      0.99      1115\n",
      "\n"
     ]
    }
   ],
   "source": [
    "print(classification_report(y_test,prediction[\"Logistic\"]))"
   ]
  },
  {
   "cell_type": "code",
   "execution_count": 53,
   "metadata": {},
   "outputs": [
    {
     "name": "stdout",
     "output_type": "stream",
     "text": [
      "GridSearchCV(cv=3, estimator=DecisionTreeClassifier(criterion='entropy'),\n",
      "             param_grid={'max_depth': range(1, 300)})\n",
      "0.9623070846040788\n",
      "254\n"
     ]
    }
   ],
   "source": [
    "from sklearn.model_selection import GridSearchCV\n",
    "from sklearn import tree\n",
    "\n",
    "max_depths = range(1,300,1)\n",
    "\n",
    "dtc = tree.DecisionTreeClassifier(criterion='entropy')\n",
    "grid = GridSearchCV(estimator=dtc, param_grid=dict(max_depth=max_depths),cv=3)\n",
    "grid.fit(X_train_texts, y_train)\n",
    "\n",
    "print(grid)\n",
    "# summarize the results of the grid search\n",
    "print(grid.best_score_)\n",
    "print(grid.best_estimator_.max_depth)"
   ]
  },
  {
   "cell_type": "code",
   "execution_count": 54,
   "metadata": {},
   "outputs": [
    {
     "name": "stdout",
     "output_type": "stream",
     "text": [
      "Decision Tree Results\n",
      "Confusion Matrix: \n",
      "[[963  14]\n",
      " [ 19 119]]\n",
      "\n",
      " Classifcation Report\n",
      "              precision    recall  f1-score   support\n",
      "\n",
      "           0       0.98      0.99      0.98       977\n",
      "           1       0.89      0.86      0.88       138\n",
      "\n",
      "    accuracy                           0.97      1115\n",
      "   macro avg       0.94      0.92      0.93      1115\n",
      "weighted avg       0.97      0.97      0.97      1115\n",
      "\n"
     ]
    }
   ],
   "source": [
    "predicted = grid.predict(X_test_texts)\n",
    "\n",
    "print(\"Decision Tree Results\\nConfusion Matrix: \")\n",
    "print(confusion_matrix(y_test,predicted))\n",
    "print(\"\\n Classifcation Report\")\n",
    "print(classification_report(y_test,predicted))"
   ]
  },
  {
   "cell_type": "code",
   "execution_count": 55,
   "metadata": {},
   "outputs": [
    {
     "name": "stdout",
     "output_type": "stream",
     "text": [
      "GridSearchCV(cv=3, estimator=RandomForestClassifier(random_state=47),\n",
      "             param_grid={'n_estimators': [5, 10, 50, 100, 200, 300, 400, 1000]})\n",
      "0.9712810775619211\n",
      "400\n"
     ]
    }
   ],
   "source": [
    "from sklearn.ensemble import RandomForestClassifier\n",
    "#from sklearn.grid_search import GridSearchCV\n",
    "from sklearn.model_selection import GridSearchCV\n",
    "\n",
    "n_estimators_list = [5,10,50,100,200,300,400,1000]\n",
    "\n",
    "rfc = RandomForestClassifier(random_state=47)\n",
    "grid = GridSearchCV(estimator=rfc, param_grid=dict(n_estimators=n_estimators_list),cv=3)\n",
    "grid.fit(X_train_texts, y_train)\n",
    "\n",
    "print(grid)\n",
    "# summarize the results of the grid search\n",
    "print(grid.best_score_)\n",
    "print(grid.best_estimator_.n_estimators)"
   ]
  },
  {
   "cell_type": "code",
   "execution_count": 56,
   "metadata": {},
   "outputs": [
    {
     "name": "stdout",
     "output_type": "stream",
     "text": [
      "Decision Tree Results\n",
      "Confusion Matrix: \n",
      "[[977   0]\n",
      " [ 16 122]]\n",
      "\n",
      " Classifcation Report\n",
      "              precision    recall  f1-score   support\n",
      "\n",
      "           0       0.98      1.00      0.99       977\n",
      "           1       1.00      0.88      0.94       138\n",
      "\n",
      "    accuracy                           0.99      1115\n",
      "   macro avg       0.99      0.94      0.97      1115\n",
      "weighted avg       0.99      0.99      0.99      1115\n",
      "\n"
     ]
    }
   ],
   "source": [
    "predicted = grid.predict(X_test_texts)\n",
    "\n",
    "print(\"Decision Tree Results\\nConfusion Matrix: \")\n",
    "print(confusion_matrix(y_test,predicted))\n",
    "print(\"\\n Classifcation Report\")\n",
    "print(classification_report(y_test,predicted))"
   ]
  },
  {
   "cell_type": "code",
   "execution_count": 57,
   "metadata": {},
   "outputs": [
    {
     "name": "stdout",
     "output_type": "stream",
     "text": [
      "GridSearchCV(cv=3, estimator=ExtraTreesClassifier(random_state=47),\n",
      "             param_grid={'n_estimators': [5, 10, 50, 100, 200, 300, 400, 1000]})\n",
      "0.9780117610983471\n",
      "200\n"
     ]
    }
   ],
   "source": [
    "from sklearn.ensemble import ExtraTreesClassifier\n",
    "#from sklearn.grid_search import GridSearchCV\n",
    "from sklearn.model_selection import GridSearchCV\n",
    "\n",
    "\n",
    "n_estimators_list = [5,10,50,100,200,300,400,1000]\n",
    "\n",
    "etc = ExtraTreesClassifier(random_state=47)\n",
    "grid = GridSearchCV(estimator=etc, param_grid=dict(n_estimators=n_estimators_list),cv=3)\n",
    "grid.fit(X_train_texts, y_train)\n",
    "\n",
    "print(grid)\n",
    "# summarize the results of the grid search\n",
    "print(grid.best_score_)\n",
    "print(grid.best_estimator_.n_estimators)"
   ]
  },
  {
   "cell_type": "code",
   "execution_count": 58,
   "metadata": {},
   "outputs": [
    {
     "name": "stdout",
     "output_type": "stream",
     "text": [
      "Decision Tree Results\n",
      "Confusion Matrix: \n",
      "[[977   0]\n",
      " [ 16 122]]\n",
      "\n",
      " Classifcation Report\n",
      "              precision    recall  f1-score   support\n",
      "\n",
      "           0       0.98      1.00      0.99       977\n",
      "           1       1.00      0.88      0.94       138\n",
      "\n",
      "    accuracy                           0.99      1115\n",
      "   macro avg       0.99      0.94      0.97      1115\n",
      "weighted avg       0.99      0.99      0.99      1115\n",
      "\n"
     ]
    }
   ],
   "source": [
    "predicted = grid.predict(X_test_texts)\n",
    "\n",
    "print(\"Decision Tree Results\\nConfusion Matrix: \")\n",
    "print(confusion_matrix(y_test,predicted))\n",
    "print(\"\\n Classifcation Report\")\n",
    "print(classification_report(y_test,predicted))"
   ]
  },
  {
   "cell_type": "code",
   "execution_count": 59,
   "metadata": {},
   "outputs": [
    {
     "name": "stdout",
     "output_type": "stream",
     "text": [
      "GridSearchCV(cv=3, estimator=GradientBoostingClassifier(random_state=47),\n",
      "             param_grid={'n_estimators': [5, 10, 50, 100, 200, 300, 400, 1000]})\n",
      "0.9735254443643857\n",
      "1000\n"
     ]
    }
   ],
   "source": [
    "from sklearn.ensemble import GradientBoostingClassifier\n",
    "\n",
    "gbc = GradientBoostingClassifier(random_state=47)\n",
    "\n",
    "n_estimators_list = [5,10,50,100,200,300,400,1000]\n",
    "grid = GridSearchCV(estimator=gbc, param_grid=dict(n_estimators=n_estimators_list),cv=3)\n",
    "grid.fit(X_train_texts, y_train)\n",
    "\n",
    "print(grid)\n",
    "# summarize the results of the grid search\n",
    "print(grid.best_score_)\n",
    "print(grid.best_estimator_.n_estimators)"
   ]
  },
  {
   "cell_type": "code",
   "execution_count": 60,
   "metadata": {},
   "outputs": [
    {
     "name": "stdout",
     "output_type": "stream",
     "text": [
      "Decision Tree Results\n",
      "Confusion Matrix: \n",
      "[[977   0]\n",
      " [ 20 118]]\n",
      "\n",
      " Classifcation Report\n",
      "              precision    recall  f1-score   support\n",
      "\n",
      "           0       0.98      1.00      0.99       977\n",
      "           1       1.00      0.86      0.92       138\n",
      "\n",
      "    accuracy                           0.98      1115\n",
      "   macro avg       0.99      0.93      0.96      1115\n",
      "weighted avg       0.98      0.98      0.98      1115\n",
      "\n"
     ]
    }
   ],
   "source": [
    "predicted = grid.predict(X_test_texts)\n",
    "\n",
    "print(\"Decision Tree Results\\nConfusion Matrix: \")\n",
    "print(confusion_matrix(y_test,predicted))\n",
    "print(\"\\n Classifcation Report\")\n",
    "print(classification_report(y_test,predicted))"
   ]
  },
  {
   "cell_type": "code",
   "execution_count": null,
   "metadata": {},
   "outputs": [],
   "source": []
  }
 ],
 "metadata": {
  "kernelspec": {
   "display_name": "Python 3",
   "language": "python",
   "name": "python3"
  },
  "language_info": {
   "codemirror_mode": {
    "name": "ipython",
    "version": 3
   },
   "file_extension": ".py",
   "mimetype": "text/x-python",
   "name": "python",
   "nbconvert_exporter": "python",
   "pygments_lexer": "ipython3",
   "version": "3.8.3"
  }
 },
 "nbformat": 4,
 "nbformat_minor": 1
}
